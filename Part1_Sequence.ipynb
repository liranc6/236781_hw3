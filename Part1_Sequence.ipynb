{
 "cells": [
  {
   "cell_type": "markdown",
   "metadata": {},
   "source": [
    "$$\n",
    "\\newcommand{\\mat}[1]{\\boldsymbol {#1}}\n",
    "\\newcommand{\\mattr}[1]{\\boldsymbol {#1}^\\top}\n",
    "\\newcommand{\\matinv}[1]{\\boldsymbol {#1}^{-1}}\n",
    "\\newcommand{\\vec}[1]{\\boldsymbol {#1}}\n",
    "\\newcommand{\\vectr}[1]{\\boldsymbol {#1}^\\top}\n",
    "\\newcommand{\\rvar}[1]{\\mathrm {#1}}\n",
    "\\newcommand{\\rvec}[1]{\\boldsymbol{\\mathrm{#1}}}\n",
    "\\newcommand{\\diag}{\\mathop{\\mathrm {diag}}}\n",
    "\\newcommand{\\set}[1]{\\mathbb {#1}}\n",
    "\\newcommand{\\norm}[1]{\\left\\lVert#1\\right\\rVert}\n",
    "\\newcommand{\\pderiv}[2]{\\frac{\\partial #1}{\\partial #2}}\n",
    "\\newcommand{\\bb}[1]{\\boldsymbol{#1}}\n",
    "$$\n",
    "# Part 1: Sequence Models\n",
    "<a id=part1></a>"
   ]
  },
  {
   "cell_type": "markdown",
   "metadata": {},
   "source": [
    "In this part we will learn about working with text sequences using recurrent neural networks.\n",
    "We'll go from a raw text file all the way to a fully trained GRU-RNN model and generate works of art!"
   ]
  },
  {
   "cell_type": "code",
   "execution_count": 82,
   "metadata": {
    "execution": {
     "iopub.execute_input": "2021-01-22T10:38:24.392532Z",
     "iopub.status.busy": "2021-01-22T10:38:24.391821Z",
     "iopub.status.idle": "2021-01-22T10:38:28.592846Z",
     "shell.execute_reply": "2021-01-22T10:38:28.593374Z"
    }
   },
   "outputs": [
    {
     "name": "stdout",
     "output_type": "stream",
     "text": [
      "The autoreload extension is already loaded. To reload it, use:\n",
      "  %reload_ext autoreload\n"
     ]
    }
   ],
   "source": [
    "import unittest\n",
    "import os\n",
    "import sys\n",
    "import pathlib\n",
    "import urllib\n",
    "import shutil\n",
    "import re\n",
    "\n",
    "import numpy as np\n",
    "import torch\n",
    "import matplotlib.pyplot as plt\n",
    "\n",
    "%load_ext autoreload\n",
    "%autoreload 2"
   ]
  },
  {
   "cell_type": "code",
   "execution_count": 83,
   "metadata": {
    "execution": {
     "iopub.execute_input": "2021-01-22T10:38:28.596883Z",
     "iopub.status.busy": "2021-01-22T10:38:28.596381Z",
     "iopub.status.idle": "2021-01-22T10:38:28.616333Z",
     "shell.execute_reply": "2021-01-22T10:38:28.616876Z"
    }
   },
   "outputs": [
    {
     "name": "stdout",
     "output_type": "stream",
     "text": [
      "Using device: cpu\n"
     ]
    }
   ],
   "source": [
    "test = unittest.TestCase()\n",
    "plt.rcParams.update({'font.size': 12})\n",
    "device = torch.device('cuda' if torch.cuda.is_available() else 'cpu')\n",
    "print('Using device:', device)"
   ]
  },
  {
   "cell_type": "markdown",
   "metadata": {},
   "source": [
    "## Text generation with a char-level RNN\n",
    "<a id=part1_1></a>"
   ]
  },
  {
   "cell_type": "markdown",
   "metadata": {},
   "source": [
    "### Obtaining the corpus\n",
    "<a id=part1_2></a>"
   ]
  },
  {
   "cell_type": "markdown",
   "metadata": {},
   "source": [
    "Let's begin by downloading a corpus containing all the works of William Shakespeare.\n",
    "Since he was very prolific, this corpus is fairly large and will provide us with enough data for\n",
    "obtaining impressive results."
   ]
  },
  {
   "cell_type": "code",
   "execution_count": 85,
   "metadata": {
    "execution": {
     "iopub.execute_input": "2021-01-22T10:38:28.622584Z",
     "iopub.status.busy": "2021-01-22T10:38:28.621857Z",
     "iopub.status.idle": "2021-01-22T10:38:28.645670Z",
     "shell.execute_reply": "2021-01-22T10:38:28.646208Z"
    }
   },
   "outputs": [],
   "source": [
    "CORPUS_URL = 'https://github.com/cedricdeboom/character-level-rnn-datasets/raw/master/datasets/shakespeare.txt'\n",
    "DATA_DIR = pathlib.Path.home().joinpath('.pytorch-datasets')\n",
    "\n",
    "##Liran: I downloaded the .txt file and uploaded to the HW dir.\n",
    "\"\"\"\n",
    "def download_corpus(out_path=DATA_DIR, url=CORPUS_URL, force=False):\n",
    "    pathlib.Path(out_path).mkdir(exist_ok=True)\n",
    "    out_filename = os.path.join(out_path, os.path.basename(url))\n",
    "    \n",
    "    if os.path.isfile(out_filename) and not force:\n",
    "        print(f'Corpus file {out_filename} exists, skipping download.')\n",
    "    else:\n",
    "        print(f'Downloading {url}...')\n",
    "        with urllib.request.urlopen(url) as response, open(out_filename, 'wb') as out_file:\n",
    "            shutil.copyfileobj(response, out_file)\n",
    "        print(f'Saved to {out_filename}.')\n",
    "    return out_filename\n",
    "\n",
    "corpus_path = download_corpus()\n",
    "\"\"\"\n",
    "corpus_path = \"shakespeare.txt\""
   ]
  },
  {
   "cell_type": "markdown",
   "metadata": {},
   "source": [
    "Load the text into memory and print a snippet:"
   ]
  },
  {
   "cell_type": "code",
   "execution_count": 86,
   "metadata": {
    "execution": {
     "iopub.execute_input": "2021-01-22T10:38:28.649588Z",
     "iopub.status.busy": "2021-01-22T10:38:28.649097Z",
     "iopub.status.idle": "2021-01-22T10:38:28.684132Z",
     "shell.execute_reply": "2021-01-22T10:38:28.684700Z"
    }
   },
   "outputs": [
    {
     "name": "stdout",
     "output_type": "stream",
     "text": [
      "Corpus length: 6347703 chars\n",
      "ALLS WELL THAT ENDS WELL\n",
      "\n",
      "by William Shakespeare\n",
      "\n",
      "Dramatis Personae\n",
      "\n",
      "  KING OF FRANCE\n",
      "  THE DUKE OF FLORENCE\n",
      "  BERTRAM, Count of Rousillon\n",
      "  LAFEU, an old lord\n",
      "  PAROLLES, a follower of Bertram\n",
      "  TWO FRENCH LORDS, serving with Bertram\n",
      "\n",
      "  STEWARD, Servant to the Countess of Rousillon\n",
      "  LAVACHE, a clown and Servant to the Countess of Rousillon\n",
      "  A PAGE, Servant to the Countess of Rousillon\n",
      "\n",
      "  COUNTESS OF ROUSILLON, mother to Bertram\n",
      "  HELENA, a gentlewoman protected by the Countess\n",
      "  A WIDOW OF FLORENCE.\n",
      "  DIANA, daughter to the Widow\n",
      "\n",
      "  VIOLENTA, neighbour and friend to the Widow\n",
      "  MARIANA, neighbour and friend to the Widow\n",
      "\n",
      "  Lords, Officers, Soldiers, etc., French and Florentine  \n",
      "\n",
      "SCENE:\n",
      "Rousillon; Paris; Florence; Marseilles\n",
      "\n",
      "ACT I. SCENE 1.\n",
      "Rousillon. The COUNT'S palace\n",
      "\n",
      "Enter BERTRAM, the COUNTESS OF ROUSILLON, HELENA, and LAFEU, all in black\n",
      "\n",
      "  COUNTESS. In delivering my son from me, I bury a second husband.\n",
      "  BERTRAM. And I in going, madam, weep o'er my father's death anew;\n",
      "    but I must attend his Majesty's command, to whom I am now in\n",
      "    ward, evermore in subjection.\n",
      "  LAFEU. You shall find of the King a husband, madam; you, sir, a\n",
      "    father. He that so generally is at all times good must of\n",
      "    \n"
     ]
    }
   ],
   "source": [
    "with open(corpus_path, 'r', encoding='utf-8') as f:\n",
    "    corpus = f.read()\n",
    "\n",
    "print(f'Corpus length: {len(corpus)} chars')\n",
    "print(corpus[7:1234])"
   ]
  },
  {
   "cell_type": "markdown",
   "metadata": {},
   "source": [
    "### Data Preprocessing\n",
    "<a id=part1_3></a>"
   ]
  },
  {
   "cell_type": "markdown",
   "metadata": {},
   "source": [
    "The first thing we'll need is to map from each unique character in the corpus to an index that will represent it in our learning process.\n",
    "\n",
    "**TODO**: Implement the `char_maps()` function in the `hw3/charnn.py` module."
   ]
  },
  {
   "cell_type": "code",
   "execution_count": 87,
   "metadata": {
    "execution": {
     "iopub.execute_input": "2021-01-22T10:38:28.688548Z",
     "iopub.status.busy": "2021-01-22T10:38:28.688076Z",
     "iopub.status.idle": "2021-01-22T10:38:28.793012Z",
     "shell.execute_reply": "2021-01-22T10:38:28.793502Z"
    }
   },
   "outputs": [
    {
     "name": "stdout",
     "output_type": "stream",
     "text": [
      "{'\\n': 0, ' ': 1, '!': 2, '\"': 3, '$': 4, '&': 5, \"'\": 6, '(': 7, ')': 8, ',': 9, '-': 10, '.': 11, '0': 12, '1': 13, '2': 14, '3': 15, '4': 16, '5': 17, '6': 18, '7': 19, '8': 20, '9': 21, ':': 22, ';': 23, '<': 24, '?': 25, 'A': 26, 'B': 27, 'C': 28, 'D': 29, 'E': 30, 'F': 31, 'G': 32, 'H': 33, 'I': 34, 'J': 35, 'K': 36, 'L': 37, 'M': 38, 'N': 39, 'O': 40, 'P': 41, 'Q': 42, 'R': 43, 'S': 44, 'T': 45, 'U': 46, 'V': 47, 'W': 48, 'X': 49, 'Y': 50, 'Z': 51, '[': 52, ']': 53, '_': 54, 'a': 55, 'b': 56, 'c': 57, 'd': 58, 'e': 59, 'f': 60, 'g': 61, 'h': 62, 'i': 63, 'j': 64, 'k': 65, 'l': 66, 'm': 67, 'n': 68, 'o': 69, 'p': 70, 'q': 71, 'r': 72, 's': 73, 't': 74, 'u': 75, 'v': 76, 'w': 77, 'x': 78, 'y': 79, 'z': 80, '}': 81, '\\ufeff': 82}\n"
     ]
    }
   ],
   "source": [
    "import hw3.charnn as charnn\n",
    "\n",
    "char_to_idx, idx_to_char = charnn.char_maps(corpus)\n",
    "print(char_to_idx)\n",
    "\n",
    "test.assertEqual(len(char_to_idx), len(idx_to_char))\n",
    "test.assertSequenceEqual(list(char_to_idx.keys()), list(idx_to_char.values()))\n",
    "test.assertSequenceEqual(list(char_to_idx.values()), list(idx_to_char.keys()))"
   ]
  },
  {
   "cell_type": "markdown",
   "metadata": {},
   "source": [
    "Seems we have some strange characters in the corpus that are very rare and are probably due to mistakes.\n",
    "To reduce the length of each tensor we'll need to later represent our chars, it's best to remove them.\n",
    "\n",
    "**TODO**: Implement the `remove_chars()` function in the `hw3/charnn.py` module."
   ]
  },
  {
   "cell_type": "code",
   "execution_count": 88,
   "metadata": {
    "execution": {
     "iopub.execute_input": "2021-01-22T10:38:28.797109Z",
     "iopub.status.busy": "2021-01-22T10:38:28.796640Z",
     "iopub.status.idle": "2021-01-22T10:38:28.930226Z",
     "shell.execute_reply": "2021-01-22T10:38:28.930754Z"
    }
   },
   "outputs": [
    {
     "name": "stdout",
     "output_type": "stream",
     "text": [
      "Removed 34 chars\n"
     ]
    }
   ],
   "source": [
    "corpus, n_removed = charnn.remove_chars(corpus, ['}','$','_','<','\\ufeff'])\n",
    "print(f'Removed {n_removed} chars')\n",
    "\n",
    "# After removing the chars, re-create the mappings\n",
    "char_to_idx, idx_to_char = charnn.char_maps(corpus)"
   ]
  },
  {
   "cell_type": "markdown",
   "metadata": {},
   "source": [
    "The next thing we need is an **embedding** of the chracters.\n",
    "An embedding is a representation of each token from the sequence as a tensor.\n",
    "For a char-level RNN, our tokens will be chars and we can thus use the simplest possible embedding: encode each char as a **one-hot** tensor. In other words, each char will be represented\n",
    "as a tensor whos length is the total number of unique chars (`V`) which contains all zeros except at the index\n",
    "corresponding to that specific char.\n",
    "\n",
    "**TODO**: Implement the functions `chars_to_onehot()` and `onehot_to_chars()` in the `hw3/charnn.py` module."
   ]
  },
  {
   "cell_type": "code",
   "execution_count": 89,
   "metadata": {
    "execution": {
     "iopub.execute_input": "2021-01-22T10:38:28.934809Z",
     "iopub.status.busy": "2021-01-22T10:38:28.934301Z",
     "iopub.status.idle": "2021-01-22T10:38:28.969076Z",
     "shell.execute_reply": "2021-01-22T10:38:28.969799Z"
    }
   },
   "outputs": [
    {
     "name": "stdout",
     "output_type": "stream",
     "text": [
      "brine a maiden can season her praise in.\n",
      "   \n",
      "tensor([[0, 0, 0, 0, 0, 0, 0, 0, 0, 0, 0, 0, 0, 0, 0, 0, 0, 0, 0, 0, 0, 0, 0, 0,\n",
      "         0, 0, 0, 0, 0, 0, 0, 0, 0, 0, 0, 0, 0, 0, 0, 0, 0, 0, 0, 0, 0, 0, 0, 0,\n",
      "         0, 0, 0, 0, 0, 1, 0, 0, 0, 0, 0, 0, 0, 0, 0, 0, 0, 0, 0, 0, 0, 0, 0, 0,\n",
      "         0, 0, 0, 0, 0, 0],\n",
      "        [0, 0, 0, 0, 0, 0, 0, 0, 0, 0, 0, 0, 0, 0, 0, 0, 0, 0, 0, 0, 0, 0, 0, 0,\n",
      "         0, 0, 0, 0, 0, 0, 0, 0, 0, 0, 0, 0, 0, 0, 0, 0, 0, 0, 0, 0, 0, 0, 0, 0,\n",
      "         0, 0, 0, 0, 0, 0, 0, 0, 0, 0, 0, 0, 0, 0, 0, 0, 0, 0, 0, 0, 0, 1, 0, 0,\n",
      "         0, 0, 0, 0, 0, 0],\n",
      "        [0, 0, 0, 0, 0, 0, 0, 0, 0, 0, 0, 0, 0, 0, 0, 0, 0, 0, 0, 0, 0, 0, 0, 0,\n",
      "         0, 0, 0, 0, 0, 0, 0, 0, 0, 0, 0, 0, 0, 0, 0, 0, 0, 0, 0, 0, 0, 0, 0, 0,\n",
      "         0, 0, 0, 0, 0, 0, 0, 0, 0, 0, 0, 0, 1, 0, 0, 0, 0, 0, 0, 0, 0, 0, 0, 0,\n",
      "         0, 0, 0, 0, 0, 0]], dtype=torch.int8)\n"
     ]
    }
   ],
   "source": [
    "# Wrap the actual embedding functions for calling convenience\n",
    "def embed(text):\n",
    "    return charnn.chars_to_onehot(text, char_to_idx)\n",
    "\n",
    "def unembed(embedding):\n",
    "    return charnn.onehot_to_chars(embedding, idx_to_char)\n",
    "\n",
    "text_snippet = corpus[3104:3148]\n",
    "print(text_snippet)\n",
    "print(embed(text_snippet[0:3]))\n",
    "\n",
    "test.assertEqual(text_snippet, unembed(embed(text_snippet)))\n",
    "test.assertEqual(embed(text_snippet).dtype, torch.int8)"
   ]
  },
  {
   "cell_type": "markdown",
   "metadata": {},
   "source": [
    "### Dataset Creation\n",
    "<a id=part1_4></a>"
   ]
  },
  {
   "cell_type": "markdown",
   "metadata": {},
   "source": [
    "We wish to train our model to generate text by constantly predicting what the next char should be based on the past.\n",
    "To that end we'll need to train our recurrent network in a way similar to a classification task. At each timestep, we input a char and set the expected output (label) to be the next char in the original sequence.\n",
    "\n",
    "We will split our corpus into shorter sequences of length `S` chars (see question below).\n",
    "Each **sample** we provide our model with will therefore be a tensor of shape `(S,V)` where `V` is the embedding dimension. Our model will operate sequentially on each char in the sequence.\n",
    "For each sample, we'll also need a **label**. This is simply another sequence, shifted by one char so that the label of each char is the next char in the corpus."
   ]
  },
  {
   "cell_type": "markdown",
   "metadata": {},
   "source": [
    "**TODO**: Implement the `chars_to_labelled_samples()` function in the `hw3/charnn.py` module."
   ]
  },
  {
   "cell_type": "code",
   "execution_count": 90,
   "metadata": {
    "execution": {
     "iopub.execute_input": "2021-01-22T10:38:28.975906Z",
     "iopub.status.busy": "2021-01-22T10:38:28.975377Z",
     "iopub.status.idle": "2021-01-22T10:38:31.834508Z",
     "shell.execute_reply": "2021-01-22T10:38:31.834983Z"
    }
   },
   "outputs": [
    {
     "name": "stdout",
     "output_type": "stream",
     "text": [
      "samples shape: torch.Size([99182, 64, 78])\n",
      "labels shape: torch.Size([99182, 64])\n"
     ]
    }
   ],
   "source": [
    "# Create dataset of sequences\n",
    "seq_len = 64\n",
    "vocab_len = len(char_to_idx)\n",
    "\n",
    "# Create labelled samples\n",
    "samples, labels = charnn.chars_to_labelled_samples(corpus, char_to_idx, seq_len, device)\n",
    "print(f'samples shape: {samples.shape}')\n",
    "print(f'labels shape: {labels.shape}')\n",
    "\n",
    "# Test shapes\n",
    "num_samples = (len(corpus) - 1) // seq_len\n",
    "test.assertEqual(samples.shape, (num_samples, seq_len, vocab_len))\n",
    "test.assertEqual(labels.shape, (num_samples, seq_len))\n",
    "\n",
    "# Test content\n",
    "for _ in range(1000):\n",
    "    # random sample\n",
    "    i = np.random.randint(num_samples, size=(1,))[0]\n",
    "    # Compare to corpus\n",
    "    test.assertEqual(unembed(samples[i]), corpus[i*seq_len:(i+1)*seq_len], msg=f\"content mismatch in sample {i}\")\n",
    "    # Compare to labels\n",
    "    sample_text = unembed(samples[i])\n",
    "    label_text = str.join('', [idx_to_char[j.item()] for j in labels[i]])\n",
    "    test.assertEqual(sample_text[1:], label_text[0:-1], msg=f\"label mismatch in sample {i}\")"
   ]
  },
  {
   "cell_type": "markdown",
   "metadata": {},
   "source": [
    "Let's print a few consecutive samples. You should see that the text continues between them."
   ]
  },
  {
   "cell_type": "code",
   "execution_count": 91,
   "metadata": {
    "execution": {
     "iopub.execute_input": "2021-01-22T10:38:31.839059Z",
     "iopub.status.busy": "2021-01-22T10:38:31.838370Z",
     "iopub.status.idle": "2021-01-22T10:38:31.860310Z",
     "shell.execute_reply": "2021-01-22T10:38:31.860806Z"
    }
   },
   "outputs": [
    {
     "name": "stdout",
     "output_type": "stream",
     "text": [
      "sample [37988]:\n",
      "\tMount thou my horse and hide thy spurs in him, Till he h\n",
      "sample [37989]:\n",
      "\tave brought thee up to yonder troops And here again, that I\n",
      "sample [37990]:\n",
      "\tmay rest assured Whether yond troops are friend or enemy.\n",
      "sample [37991]:\n",
      "\tTITINIUS. I will be here again, even with a thought. Exit.\n",
      "sample [37992]:\n",
      "\tCASSIUS. Go, Pindarus, get higher on that hill; My sight wa\n"
     ]
    }
   ],
   "source": [
    "import re\n",
    "import random\n",
    "\n",
    "i = random.randrange(num_samples-5)\n",
    "for i in range(i, i+5):\n",
    "    test.assertEqual(len(samples[i]), seq_len)\n",
    "    s = re.sub(r'\\s+', ' ', unembed(samples[i])).strip()\n",
    "    print(f'sample [{i}]:\\n\\t{s}')"
   ]
  },
  {
   "cell_type": "markdown",
   "metadata": {},
   "source": [
    "As usual, instead of feeding one sample at a time into our model's forward we'll work with **batches** of samples. This means that at every timestep, our model will operate on a batch of chars that are from **different sequences**.\n",
    "Effectively this will allow us to parallelize training our model by dong matrix-matrix multiplications\n",
    "instead of matrix-vector during the forward pass."
   ]
  },
  {
   "cell_type": "markdown",
   "metadata": {},
   "source": [
    "An important nuance is that we need the batches to be **contiguous**, i.e. sample $k$ in batch $j$ should continue sample $k$ from batch $j-1$.\n",
    "The following figure illustrates this:\n",
    "\n",
    "<img src=\"imgs/rnn-batching.png\"/>\n",
    "\n",
    "If we naïvely take consecutive samples into batches, e.g. `[0,1,...,B-1]`, `[B,B+1,...,2B-1]` and so on, we won't have contiguous\n",
    "sequences at the same index between adjacent batches.\n",
    "\n",
    "To accomplish this we need to tell our `DataLoader` which samples to combine together into one batch.\n",
    "We do this by implementing a custom PyTorch `Sampler`, and providing it to our `DataLoader`."
   ]
  },
  {
   "cell_type": "markdown",
   "metadata": {},
   "source": [
    "**TODO**: Implement the `SequenceBatchSampler` class in the `hw3/charnn.py` module."
   ]
  },
  {
   "cell_type": "code",
   "execution_count": 92,
   "metadata": {
    "execution": {
     "iopub.execute_input": "2021-01-22T10:38:31.864768Z",
     "iopub.status.busy": "2021-01-22T10:38:31.864298Z",
     "iopub.status.idle": "2021-01-22T10:38:31.884374Z",
     "shell.execute_reply": "2021-01-22T10:38:31.884886Z"
    }
   },
   "outputs": [
    {
     "name": "stdout",
     "output_type": "stream",
     "text": [
      "sampler_idx =\n",
      " [0, 3, 6, 9, 12, 15, 18, 21, 24, 27, 1, 4, 7, 10, 13, 16, 19, 22, 25, 28, 2, 5, 8, 11, 14, 17, 20, 23, 26, 29]\n"
     ]
    }
   ],
   "source": [
    "from hw3.charnn import SequenceBatchSampler\n",
    "\n",
    "sampler = SequenceBatchSampler(dataset=range(32), batch_size=10)\n",
    "sampler_idx = list(sampler)\n",
    "print('sampler_idx =\\n', sampler_idx)\n",
    "\n",
    "# Test the Sampler\n",
    "test.assertEqual(len(sampler_idx), 30)\n",
    "batch_idx = np.array(sampler_idx).reshape(-1, 10)\n",
    "for k in range(10):\n",
    "    test.assertEqual(np.diff(batch_idx[:, k], n=2).item(), 0)"
   ]
  },
  {
   "cell_type": "markdown",
   "metadata": {},
   "source": [
    "Even though we're working with sequences, we can still use the standard PyTorch `Dataset`/`DataLoader` combo.\n",
    "For the dataset we can use a built-in class, `TensorDataset` to return tuples of `(sample, label)`\n",
    "from the `samples` and `labels` tensors we created above.\n",
    "The `DataLoader` will be provided with our custom `Sampler` so that it generates appropriate batches."
   ]
  },
  {
   "cell_type": "code",
   "execution_count": 93,
   "metadata": {
    "execution": {
     "iopub.execute_input": "2021-01-22T10:38:31.888238Z",
     "iopub.status.busy": "2021-01-22T10:38:31.887762Z",
     "iopub.status.idle": "2021-01-22T10:38:31.907545Z",
     "shell.execute_reply": "2021-01-22T10:38:31.908104Z"
    }
   },
   "outputs": [],
   "source": [
    "import torch.utils.data\n",
    "\n",
    "# Create DataLoader returning batches of samples.\n",
    "batch_size = 32\n",
    "\n",
    "ds_corpus = torch.utils.data.TensorDataset(samples, labels)\n",
    "sampler_corpus = SequenceBatchSampler(ds_corpus, batch_size)\n",
    "dl_corpus = torch.utils.data.DataLoader(ds_corpus, batch_size=batch_size, sampler=sampler_corpus, shuffle=False)"
   ]
  },
  {
   "cell_type": "markdown",
   "metadata": {},
   "source": [
    "Let's see what that gives us:"
   ]
  },
  {
   "cell_type": "code",
   "execution_count": 94,
   "metadata": {
    "execution": {
     "iopub.execute_input": "2021-01-22T10:38:31.911293Z",
     "iopub.status.busy": "2021-01-22T10:38:31.910810Z",
     "iopub.status.idle": "2021-01-22T10:38:31.939464Z",
     "shell.execute_reply": "2021-01-22T10:38:31.940068Z"
    }
   },
   "outputs": [
    {
     "name": "stdout",
     "output_type": "stream",
     "text": [
      "num batches: 3100\n",
      "shape of a batch of samples: torch.Size([32, 64, 78])\n",
      "shape of a batch of labels: torch.Size([32, 64])\n"
     ]
    }
   ],
   "source": [
    "print(f'num batches: {len(dl_corpus)}')\n",
    "\n",
    "x0, y0 = next(iter(dl_corpus))\n",
    "print(f'shape of a batch of samples: {x0.shape}')\n",
    "print(f'shape of a batch of labels: {y0.shape}')"
   ]
  },
  {
   "cell_type": "markdown",
   "metadata": {},
   "source": [
    "Now lets look at the same sample index from multiple batches taken from our corpus."
   ]
  },
  {
   "cell_type": "code",
   "execution_count": 95,
   "metadata": {
    "execution": {
     "iopub.execute_input": "2021-01-22T10:38:31.944231Z",
     "iopub.status.busy": "2021-01-22T10:38:31.943725Z",
     "iopub.status.idle": "2021-01-22T10:38:31.969478Z",
     "shell.execute_reply": "2021-01-22T10:38:31.969991Z"
    }
   },
   "outputs": [
    {
     "name": "stdout",
     "output_type": "stream",
     "text": [
      "=== batch 0, sample 11 (torch.Size([64, 78])): ===\n",
      "\tNG. My noble gossips, y'have been too prodigal; I thank ye h\n",
      "=== batch 1, sample 11 (torch.Size([64, 78])): ===\n",
      "\teartily. So shall this lady, When she has so much English.\n",
      "=== batch 2, sample 11 (torch.Size([64, 78])): ===\n",
      "\tCRANMER. Let me speak, sir, For heaven now bids me; and the\n",
      "=== batch 3, sample 11 (torch.Size([64, 78])): ===\n",
      "\twords I utter Let none think flattery, for they'll find 'em\n",
      "=== batch 4, sample 11 (torch.Size([64, 78])): ===\n",
      "\ttruth. This royal infant-heaven still move about her!-\n"
     ]
    }
   ],
   "source": [
    "# Check that sentences in in same index of different batches complete each other.\n",
    "k = random.randrange(batch_size)\n",
    "for j, (X, y) in enumerate(dl_corpus,):\n",
    "    print(f'=== batch {j}, sample {k} ({X[k].shape}): ===')\n",
    "    s = re.sub(r'\\s+', ' ', unembed(X[k])).strip()\n",
    "    print(f'\\t{s}')\n",
    "    if j==4: break"
   ]
  },
  {
   "cell_type": "markdown",
   "metadata": {},
   "source": [
    "### Model Implementation\n",
    "<a id=part1_5></a>"
   ]
  },
  {
   "cell_type": "markdown",
   "metadata": {},
   "source": [
    "Finally, our data set is ready so we can focus on our model.\n",
    "\n",
    "We'll implement here is a multilayer gated recurrent unit (GRU) model, with dropout.\n",
    "This model is a type of RNN which performs similar to the well-known LSTM model,\n",
    "but it's somewhat easier to train because it has less parameters.\n",
    "We'll modify the regular GRU slightly by applying dropout to\n",
    "the hidden states passed between layers of the model.\n",
    "\n",
    "The model accepts an input $\\mat{X}\\in\\set{R}^{S\\times V}$ containing a sequence of embedded chars.\n",
    "It returns an output $\\mat{Y}\\in\\set{R}^{S\\times V}$ of predictions for the next char and the final hidden state\n",
    "$\\mat{H}\\in\\set{R}^{L\\times H}$. Here $S$ is the sequence length, $V$ is the vocabulary size (number of unique chars), $L$ is the number of layers in the model and $H$ is the hidden dimension."
   ]
  },
  {
   "cell_type": "markdown",
   "metadata": {},
   "source": [
    "Mathematically, the model's forward function at layer $k\\in[1,L]$ and timestep $t\\in[1,S]$ can be described as\n",
    "\n",
    "$$\n",
    "\\begin{align}\n",
    "\\vec{z_t}^{[k]} &= \\sigma\\left(\\vec{x}^{[k]}_t {\\mattr{W}_{\\mathrm{xz}}}^{[k]} +\n",
    "    \\vec{h}_{t-1}^{[k]} {\\mattr{W}_{\\mathrm{hz}}}^{[k]} + \\vec{b}_{\\mathrm{z}}^{[k]}\\right) \\\\\n",
    "\\vec{r_t}^{[k]} &= \\sigma\\left(\\vec{x}^{[k]}_t {\\mattr{W}_{\\mathrm{xr}}}^{[k]} +\n",
    "    \\vec{h}_{t-1}^{[k]} {\\mattr{W}_{\\mathrm{hr}}}^{[k]} + \\vec{b}_{\\mathrm{r}}^{[k]}\\right) \\\\\n",
    "\\vec{g_t}^{[k]} &= \\tanh\\left(\\vec{x}^{[k]}_t {\\mattr{W}_{\\mathrm{xg}}}^{[k]} +\n",
    "    (\\vec{r_t}^{[k]}\\odot\\vec{h}_{t-1}^{[k]}) {\\mattr{W}_{\\mathrm{hg}}}^{[k]} + \\vec{b}_{\\mathrm{g}}^{[k]}\\right) \\\\\n",
    "\\vec{h_t}^{[k]} &= \\vec{z}^{[k]}_t \\odot \\vec{h}^{[k]}_{t-1} + \\left(1-\\vec{z}^{[k]}_t\\right)\\odot \\vec{g_t}^{[k]}\n",
    "\\end{align}\n",
    "$$"
   ]
  },
  {
   "cell_type": "markdown",
   "metadata": {},
   "source": [
    "The input to each layer is,\n",
    "$$\n",
    "\\mat{X}^{[k]} =\n",
    "\\begin{bmatrix}\n",
    "    {\\vec{x}_1}^{[k]} \\\\ \\vdots \\\\ {\\vec{x}_S}^{[k]}\n",
    "\\end{bmatrix} \n",
    "=\n",
    "\\begin{cases}\n",
    "    \\mat{X} & \\mathrm{if} ~k = 1~ \\\\\n",
    "    \\mathrm{dropout}_p \\left(\n",
    "    \\begin{bmatrix}\n",
    "        {\\vec{h}_1}^{[k-1]} \\\\ \\vdots \\\\ {\\vec{h}_S}^{[k-1]}\n",
    "    \\end{bmatrix} \\right) & \\mathrm{if} ~1 < k \\leq L+1~\n",
    "\\end{cases}.\n",
    "$$"
   ]
  },
  {
   "cell_type": "markdown",
   "metadata": {},
   "source": [
    "The output of the entire model is then,\n",
    "$$\n",
    "\\mat{Y} = \\mat{X}^{[L+1]} {\\mattr{W}_{\\mathrm{hy}}} + \\mat{B}_{\\mathrm{y}}\n",
    "$$"
   ]
  },
  {
   "cell_type": "markdown",
   "metadata": {},
   "source": [
    "and the final hidden state is\n",
    "$$\n",
    "\\mat{H} = \n",
    "\\begin{bmatrix}\n",
    "    {\\vec{h}_S}^{[1]} \\\\ \\vdots \\\\ {\\vec{h}_S}^{[L]}\n",
    "\\end{bmatrix}.\n",
    "$$"
   ]
  },
  {
   "cell_type": "markdown",
   "metadata": {},
   "source": [
    "Notes:\n",
    "- $t\\in[1,S]$ is the timestep, i.e. the current position within the sequence of each sample.\n",
    "- $\\vec{x}_t^{[k]}$ is the input of layer $k$ at timestep $t$, respectively.\n",
    "- The outputs of the **last layer** $\\vec{y}_t^{[L]}$, are the predicted next characters for every input char.\n",
    "  These are similar to class scores in classification tasks.\n",
    "- The hidden states at the **last timestep**, $\\vec{h}_S^{[k]}$, are the final hidden state returned from the model.\n",
    "- $\\sigma(\\cdot)$ is the sigmoid function, i.e. $\\sigma(\\vec{z}) = 1/(1+e^{-\\vec{z}})$ which returns values in $(0,1)$.\n",
    "- $\\tanh(\\cdot)$ is the hyperbolic tangent, i.e. $\\tanh(\\vec{z}) = (e^{2\\vec{z}}-1)/(e^{2\\vec{z}}+1)$ which returns values in $(-1,1)$.\n",
    "- $\\vec{h_t}^{[k]}$ is the hidden state of layer $k$ at time $t$. This can be thought of as the memory of that layer.\n",
    "- $\\vec{g_t}^{[k]}$ is the candidate hidden state for time $t+1$.\n",
    "- $\\vec{z_t}^{[k]}$ is known as the update gate. It combines the previous state with the input to determine how much the current state will be combined with the new candidate state. For example, if $\\vec{z_t}^{[k]}=\\vec{1}$ then the current input has no effect on the output.\n",
    "- $\\vec{r_t}^{[k]}$ is known as the reset gate. It combines the previous state with the input to determine how much of the previous state will affect the current state candidate. For example if $\\vec{r_t}^{[k]}=\\vec{0}$ the previous state has no effect on the current candidate state."
   ]
  },
  {
   "cell_type": "markdown",
   "metadata": {},
   "source": [
    "Here's a graphical representation of the GRU's forward pass at each timestep. The $\\vec{\\tilde{h}}$ in the image is our $\\vec{g}$ (candidate next state).\n",
    "\n",
    "<img src=\"imgs/gru_cell.png\" width=\"400\"/>\n",
    "\n",
    "You can see how the reset and update gates allow the model to completely ignore it's previous state, completely ignore it's input, or any mixture of those states (since the gates are actually continuous and between $(0,1)$)."
   ]
  },
  {
   "cell_type": "markdown",
   "metadata": {},
   "source": [
    "Here's a graphical representation of the entire model.\n",
    "You can ignore the $c_t^{[k]}$ (cell state) variables (which are relevant for LSTM models).\n",
    "Our model has only the hidden state, $h_t^{[k]}$. Also notice that we added dropout between layers (i.e., on the up arrows).\n",
    "\n",
    "<img src=\"imgs/lstm_model.png\" />\n",
    "\n",
    "The purple tensors are inputs (a sequence and initial hidden state per layer), and the green tensors are outputs (another sequence and final hidden state per layer). Each blue block implements the above forward equations.\n",
    "Blocks that are on the same vertical level are at the same layer, and therefore share parameters."
   ]
  },
  {
   "cell_type": "markdown",
   "metadata": {},
   "source": [
    "**TODO**: Implement the `MultilayerGRU` class in the `hw3/charnn.py` module.\n",
    "\n",
    "Notes:\n",
    "- You'll need to handle input **batches** now.\n",
    "  The math is identical to the above, but all the tensors will have an extra batch\n",
    "  dimension as their first dimension.\n",
    "- Use the diagram above to help guide your implementation.\n",
    "  It will help you visualize what shapes to returns where, etc.\n"
   ]
  },
  {
   "cell_type": "code",
   "execution_count": 96,
   "metadata": {
    "execution": {
     "iopub.execute_input": "2021-01-22T10:38:31.974665Z",
     "iopub.status.busy": "2021-01-22T10:38:31.974161Z",
     "iopub.status.idle": "2021-01-22T10:38:32.111658Z",
     "shell.execute_reply": "2021-01-22T10:38:32.112174Z"
    }
   },
   "outputs": [
    {
     "name": "stdout",
     "output_type": "stream",
     "text": [
      "MultilayerGRU(\n",
      "  (layer_0: W_xz): Linear(in_features=78, out_features=256, bias=False)\n",
      "  (layer_0: W_xr): Linear(in_features=78, out_features=256, bias=False)\n",
      "  (layer_0: W_xg): Linear(in_features=78, out_features=256, bias=False)\n",
      "  (layer_0: W_hz): Linear(in_features=256, out_features=256, bias=True)\n",
      "  (layer_0: W_hr): Linear(in_features=256, out_features=256, bias=True)\n",
      "  (layer_0: W_hg): Linear(in_features=256, out_features=256, bias=True)\n",
      "  (layer_0: dropout): Dropout(p=0, inplace=False)\n",
      "  (layer_1: W_xz): Linear(in_features=256, out_features=256, bias=False)\n",
      "  (layer_1: W_xr): Linear(in_features=256, out_features=256, bias=False)\n",
      "  (layer_1: W_xg): Linear(in_features=256, out_features=256, bias=False)\n",
      "  (layer_1: W_hz): Linear(in_features=256, out_features=256, bias=True)\n",
      "  (layer_1: W_hr): Linear(in_features=256, out_features=256, bias=True)\n",
      "  (layer_1: W_hg): Linear(in_features=256, out_features=256, bias=True)\n",
      "  (layer_1: dropout): Dropout(p=0, inplace=False)\n",
      "  (layer_2: W_xz): Linear(in_features=256, out_features=256, bias=False)\n",
      "  (layer_2: W_xr): Linear(in_features=256, out_features=256, bias=False)\n",
      "  (layer_2: W_xg): Linear(in_features=256, out_features=256, bias=False)\n",
      "  (layer_2: W_hz): Linear(in_features=256, out_features=256, bias=True)\n",
      "  (layer_2: W_hr): Linear(in_features=256, out_features=256, bias=True)\n",
      "  (layer_2: W_hg): Linear(in_features=256, out_features=256, bias=True)\n",
      "  (layer_2: dropout): Dropout(p=0, inplace=False)\n",
      "  (W_hy): Linear(in_features=256, out_features=78, bias=True)\n",
      ")\n",
      "y.shape=torch.Size([32, 64, 78])\n",
      "h.shape=torch.Size([32, 3, 256])\n"
     ]
    }
   ],
   "source": [
    "in_dim = vocab_len\n",
    "h_dim = 256\n",
    "n_layers = 3\n",
    "model = charnn.MultilayerGRU(in_dim, h_dim, out_dim=in_dim, n_layers=n_layers)\n",
    "model = model.to(device)\n",
    "print(model)\n",
    "\n",
    "# Test forward pass\n",
    "y, h = model(x0.to(dtype=torch.float, device=device))\n",
    "print(f'y.shape={y.shape}')\n",
    "print(f'h.shape={h.shape}')\n",
    "\n",
    "test.assertEqual(y.shape, (batch_size, seq_len, vocab_len))\n",
    "test.assertEqual(h.shape, (batch_size, n_layers, h_dim))\n",
    "test.assertEqual(len(list(model.parameters())), 9 * n_layers + 2) "
   ]
  },
  {
   "cell_type": "markdown",
   "metadata": {},
   "source": [
    "### Generating text by sampling\n",
    "<a id=part1_6></a>"
   ]
  },
  {
   "cell_type": "markdown",
   "metadata": {},
   "source": [
    "Now that we have a model, we can implement **text generation** based on it.\n",
    "The idea is simple:\n",
    "At each timestep our model receives one char $x_t$ from the input sequence and outputs scores $y_t$\n",
    "for what the next char should be.\n",
    "We'll convert these scores into a probability over each of the possible chars.\n",
    "In other words, for each input char $x_t$ we create a probability distribution for the next char\n",
    "conditioned on the current one and the state of the model (representing all previous inputs):\n",
    "$$p(x_{t+1}|x_t, \\vec{h}_t).$$\n",
    "\n",
    "Once we have such a distribution, we'll sample a char from it.\n",
    "This will be the first char of our generated sequence.\n",
    "Now we can feed this new char into the model, create another distribution, sample the next char and so on.\n",
    "Note that it's crucial to propagate the hidden state when sampling."
   ]
  },
  {
   "cell_type": "markdown",
   "metadata": {},
   "source": [
    "The important point however is how to create the distribution from the scores.\n",
    "One way, as we saw in previous ML tasks, is to use the softmax function.\n",
    "However, a drawback of softmax is that it can generate very diffuse (more uniform) distributions if the score values are very similar. When sampling, we would prefer to control the distributions and make them less uniform to increase the chance of sampling the char(s) with the highest scores compared to the others.\n",
    "\n",
    "To control the variance of the distribution, a common trick is to add a hyperparameter $T$, known as the \n",
    "*temperature* to the softmax function. The class scores are simply scaled by $T$ before softmax is applied:\n",
    "$$\n",
    "\\mathrm{softmax}_T(\\vec{y}) = \\frac{e^{\\vec{y}/T}}{\\sum_k e^{y_k/T}}\n",
    "$$\n",
    "\n",
    "A low $T$ will result in less uniform distributions and vice-versa."
   ]
  },
  {
   "cell_type": "markdown",
   "metadata": {},
   "source": [
    "**TODO**: Implement the `hot_softmax()` function in the `hw3/charnn.py` module."
   ]
  },
  {
   "cell_type": "code",
   "execution_count": 97,
   "metadata": {
    "execution": {
     "iopub.execute_input": "2021-01-22T10:38:32.116816Z",
     "iopub.status.busy": "2021-01-22T10:38:32.116191Z",
     "iopub.status.idle": "2021-01-22T10:38:32.573326Z",
     "shell.execute_reply": "2021-01-22T10:38:32.573897Z"
    }
   },
   "outputs": [
    {
     "data": {
      "text/plain": "<Figure size 1500x500 with 1 Axes>",
      "image/png": "[encoded data removed]"
     },
     "metadata": {},
     "output_type": "display_data"
    }
   ],
   "source": [
    "scores = y[0,0,:].detach()\n",
    "_, ax = plt.subplots(figsize=(15,5))\n",
    "\n",
    "for t in reversed([0.3, 0.5, 1.0, 100]):\n",
    "    ax.plot(charnn.hot_softmax(scores, temperature=t).cpu().numpy(), label=f'T={t}')\n",
    "ax.set_xlabel('$x_{t+1}$')\n",
    "ax.set_ylabel('$p(x_{t+1}|x_t)$')\n",
    "ax.legend()\n",
    "\n",
    "uniform_proba = 1/len(char_to_idx)\n",
    "uniform_diff = torch.abs(charnn.hot_softmax(scores, temperature=100) - uniform_proba)\n",
    "test.assertTrue(torch.all(uniform_diff < 1e-4))"
   ]
  },
  {
   "cell_type": "markdown",
   "metadata": {},
   "source": [
    "**TODO**: Implement the `generate_from_model()` function in the `hw3/charnn.py` module."
   ]
  },
  {
   "cell_type": "code",
   "execution_count": 98,
   "metadata": {
    "execution": {
     "iopub.execute_input": "2021-01-22T10:38:32.577374Z",
     "iopub.status.busy": "2021-01-22T10:38:32.576891Z",
     "iopub.status.idle": "2021-01-22T10:38:32.723962Z",
     "shell.execute_reply": "2021-01-22T10:38:32.724483Z"
    }
   },
   "outputs": [
    {
     "name": "stdout",
     "output_type": "stream",
     "text": [
      "foobarGh&62ZYVl71Oe]MyPzDjR2YQp-P CSAZB-0v0y;.02Sa\n",
      "foobarJVmWEBt!AbGaKb'rFr; 0edSZ29gfwF[17Q\n",
      "[;zLaAuv\n",
      "foobar08NWv\"xQ)8l5Gh\"scpSNS1E fFG2QuC y.D'56,MOB,M\n"
     ]
    }
   ],
   "source": [
    "for _ in range(3):\n",
    "    text = charnn.generate_from_model(model, \"foobar\", 50, (char_to_idx, idx_to_char), T=0.5)\n",
    "    print(text)\n",
    "    test.assertEqual(len(text), 50)"
   ]
  },
  {
   "cell_type": "markdown",
   "metadata": {},
   "source": [
    "### Training\n",
    "<a id=part1_7></a>"
   ]
  },
  {
   "cell_type": "markdown",
   "metadata": {},
   "source": [
    "To train this model, we'll calculate the loss at each time step by comparing the predicted char to\n",
    "the actual char from our label. We can use cross entropy since per char it's similar to a classification problem.\n",
    "We'll then sum the losses over the sequence and back-propagate the gradients though time.\n",
    "Notice that the back-propagation algorithm will \"visit\" each layer's parameter tensors multiple times,\n",
    "so we'll accumulate gradients in parameters of the blocks. Luckily `autograd` will handle this part for us."
   ]
  },
  {
   "cell_type": "markdown",
   "metadata": {},
   "source": [
    "As usual, the first step of training will be to try and **overfit** a large model (many parameters) to a tiny dataset.\n",
    "Again, this is to ensure the model and training code are implemented correctly, i.e. that the model can learn.\n",
    "\n",
    "For a generative model such as this, overfitting is slightly trickier than for classification.\n",
    "What we'll aim to do is to get our model to **memorize** a specific sequence of chars, so that when given the first\n",
    "char in the sequence it will immediately spit out the rest of the sequence verbatim.\n",
    "\n",
    "Let's create a tiny dataset to memorize."
   ]
  },
  {
   "cell_type": "code",
   "execution_count": 99,
   "metadata": {
    "execution": {
     "iopub.execute_input": "2021-01-22T10:38:32.728841Z",
     "iopub.status.busy": "2021-01-22T10:38:32.728207Z",
     "iopub.status.idle": "2021-01-22T10:38:32.749316Z",
     "shell.execute_reply": "2021-01-22T10:38:32.749827Z"
    }
   },
   "outputs": [
    {
     "name": "stdout",
     "output_type": "stream",
     "text": [
      "Text to \"memorize\":\n",
      "\n",
      "TRAM. What would you have?\n",
      "  HELENA. Something; and scarce so much; nothing, indeed.\n",
      "    I would not tell you what I would, my lord.\n",
      "    Faith, yes:\n",
      "    Strangers and foes do sunder and not kiss.\n",
      "  BERTRAM. I pray you, stay not, but in haste to horse.\n",
      "  HE\n"
     ]
    }
   ],
   "source": [
    "# Pick a tiny subset of the dataset\n",
    "subset_start, subset_end = 1001, 1005\n",
    "ds_corpus_ss = torch.utils.data.Subset(ds_corpus, range(subset_start, subset_end))\n",
    "batch_size_ss = 1\n",
    "sampler_ss = SequenceBatchSampler(ds_corpus_ss, batch_size=batch_size_ss)\n",
    "dl_corpus_ss = torch.utils.data.DataLoader(ds_corpus_ss, batch_size_ss, sampler=sampler_ss, shuffle=False)\n",
    "\n",
    "# Convert subset to text\n",
    "subset_text = ''\n",
    "for i in range(subset_end - subset_start):\n",
    "    subset_text += unembed(ds_corpus_ss[i][0])\n",
    "print(f'Text to \"memorize\":\\n\\n{subset_text}')"
   ]
  },
  {
   "cell_type": "markdown",
   "metadata": {},
   "source": [
    "Now let's implement the first part of our training code.\n",
    "\n",
    "**TODO**: Implement the `train_epoch()` and `train_batch()` methods of the `RNNTrainer` class in the `hw3/training.py` module. \n",
    "You must think about how to correctly handle the hidden state of the model between batches and epochs for this specific task (i.e. text generation)."
   ]
  },
  {
   "cell_type": "code",
   "execution_count": 101,
   "metadata": {
    "execution": {
     "iopub.execute_input": "2021-01-22T10:38:32.755307Z",
     "iopub.status.busy": "2021-01-22T10:38:32.754708Z",
     "iopub.status.idle": "2021-01-22T10:38:49.406250Z",
     "shell.execute_reply": "2021-01-22T10:38:49.406879Z"
    }
   },
   "outputs": [
    {
     "name": "stdout",
     "output_type": "stream",
     "text": [
      "\n",
      "Epoch #1: Avg. loss = 3.954, Accuracy = 18.36%\n",
      "Tn                                                                                                                                                                                                                                                        t     \n",
      "\n",
      "Epoch #25: Avg. loss = 0.667, Accuracy = 82.81%\n",
      "TRAM. What would yould yould yould yould yould yould yould yould you have?\n",
      "  HELENA. Something; and nothing, indeed.\n",
      "    hat ho horl. and nothing, indeed.\n",
      "    I would nothing, indeed.\n",
      "    I would nothing, indeed.\n",
      "    I would not indhe indee andee nothing, \n",
      "\n",
      "Epoch #50: Avg. loss = 0.020, Accuracy = 100.00%\n",
      "TRAM. What would you have?\n",
      "  HELENA. Something; and scarce so much; nothing, indeed.\n",
      "    I would not tell you what I would, my lord.\n",
      "    Faith, yes:\n",
      "    Strangers and foes do sunder and not kiss.\n",
      "  BERTRAM. I pray you, stay not, but in haste to horse.\n",
      "  HE\n"
     ]
    }
   ],
   "source": [
    "import torch.nn as nn\n",
    "import torch.optim as optim\n",
    "from hw3.training import RNNTrainer\n",
    "\n",
    "torch.manual_seed(42)\n",
    "\n",
    "lr = 0.01\n",
    "num_epochs = 500\n",
    "\n",
    "in_dim = vocab_len\n",
    "h_dim = 128\n",
    "n_layers = 2\n",
    "loss_fn = nn.CrossEntropyLoss()\n",
    "model = charnn.MultilayerGRU(in_dim, h_dim, out_dim=in_dim, n_layers=n_layers).to(device)\n",
    "optimizer = optim.Adam(model.parameters(), lr=lr)\n",
    "trainer = RNNTrainer(model, loss_fn, optimizer, device)\n",
    "\n",
    "for epoch in range(num_epochs):\n",
    "    epoch_result = trainer.train_epoch(dl_corpus_ss, verbose=False)\n",
    "    \n",
    "    # Every X epochs, we'll generate a sequence starting from the first char in the first sequence\n",
    "    # to visualize how/if/what the model is learning.\n",
    "    if epoch == 0 or (epoch+1) % 25 == 0:\n",
    "        avg_loss = np.mean(epoch_result.losses)\n",
    "        accuracy = np.mean(epoch_result.accuracy)\n",
    "        print(f'\\nEpoch #{epoch+1}: Avg. loss = {avg_loss:.3f}, Accuracy = {accuracy:.2f}%')\n",
    "        \n",
    "        generated_sequence = charnn.generate_from_model(model, subset_text[0],\n",
    "                                                        seq_len*(subset_end-subset_start),\n",
    "                                                        (char_to_idx,idx_to_char), T=0.1)\n",
    "        \n",
    "        # Stop if we've successfully memorized the small dataset.\n",
    "        print(generated_sequence)\n",
    "        if generated_sequence == subset_text:\n",
    "            break\n",
    "\n",
    "# Test successful overfitting\n",
    "test.assertGreater(epoch_result.accuracy, 99)\n",
    "test.assertEqual(generated_sequence, subset_text)"
   ]
  },
  {
   "cell_type": "markdown",
   "metadata": {},
   "source": [
    "OK, so training works - we can memorize a short sequence.\n",
    "We'll now train a much larger model on our large dataset. You'll need a GPU for this part.\n",
    "\n",
    "First, lets set up our dataset and models for training.\n",
    "We'll split our corpus into 90% train and 10% test-set.\n",
    "Also, we'll use a learning-rate scheduler to control the learning rate during training."
   ]
  },
  {
   "cell_type": "markdown",
   "metadata": {},
   "source": [
    "**TODO**: Set the hyperparameters in the `part1_rnn_hyperparams()` function of the `hw3/answers.py` module."
   ]
  },
  {
   "cell_type": "code",
   "execution_count": 108,
   "metadata": {
    "execution": {
     "iopub.execute_input": "2021-01-22T10:38:49.415265Z",
     "iopub.status.busy": "2021-01-22T10:38:49.414472Z",
     "iopub.status.idle": "2021-01-22T10:38:52.310813Z",
     "shell.execute_reply": "2021-01-22T10:38:52.311410Z"
    }
   },
   "outputs": [
    {
     "name": "stdout",
     "output_type": "stream",
     "text": [
      "hyperparams:\n",
      " {'batch_size': 256, 'seq_len': 32, 'h_dim': 256, 'n_layers': 2, 'dropout': 0.3, 'learn_rate': 0.001, 'lr_sched_factor': 0.45, 'lr_sched_patience': 3}\n",
      "Train: 697 batches, 5709824 chars\n",
      "Test:   77 batches,  630784 chars\n"
     ]
    }
   ],
   "source": [
    "from hw3.answers import part1_rnn_hyperparams\n",
    "\n",
    "hp = part1_rnn_hyperparams()\n",
    "print('hyperparams:\\n', hp)\n",
    "\n",
    "### Dataset definition\n",
    "vocab_len = len(char_to_idx)\n",
    "batch_size = hp['batch_size']\n",
    "seq_len = hp['seq_len']\n",
    "train_test_ratio = 0.9\n",
    "num_samples = (len(corpus) - 1) // seq_len\n",
    "num_train = int(train_test_ratio * num_samples)\n",
    "\n",
    "samples, labels = charnn.chars_to_labelled_samples(corpus, char_to_idx, seq_len, device)\n",
    "\n",
    "ds_train = torch.utils.data.TensorDataset(samples[:num_train], labels[:num_train])\n",
    "sampler_train = SequenceBatchSampler(ds_train, batch_size)\n",
    "dl_train = torch.utils.data.DataLoader(ds_train, batch_size, shuffle=False, sampler=sampler_train, drop_last=True)\n",
    "\n",
    "ds_test = torch.utils.data.TensorDataset(samples[num_train:], labels[num_train:])\n",
    "sampler_test = SequenceBatchSampler(ds_test, batch_size)\n",
    "dl_test = torch.utils.data.DataLoader(ds_test, batch_size, shuffle=False, sampler=sampler_test, drop_last=True)\n",
    "\n",
    "print(f'Train: {len(dl_train):3d} batches, {len(dl_train)*batch_size*seq_len:7d} chars')\n",
    "print(f'Test:  {len(dl_test):3d} batches, {len(dl_test)*batch_size*seq_len:7d} chars')\n",
    "\n",
    "### Training definition\n",
    "in_dim = out_dim = vocab_len\n",
    "checkpoint_file = 'checkpoints/rnn'\n",
    "num_epochs = 50\n",
    "early_stopping = 5\n",
    "\n",
    "model = charnn.MultilayerGRU(in_dim, hp['h_dim'], out_dim, hp['n_layers'], hp['dropout'])\n",
    "loss_fn = nn.CrossEntropyLoss()\n",
    "optimizer = optim.Adam(model.parameters(), lr=hp['learn_rate'])\n",
    "scheduler = optim.lr_scheduler.ReduceLROnPlateau(\n",
    "    optimizer, mode='max', factor=hp['lr_sched_factor'], patience=hp['lr_sched_patience'], verbose=True\n",
    ")\n",
    "trainer = RNNTrainer(model, loss_fn, optimizer, device)"
   ]
  },
  {
   "cell_type": "markdown",
   "metadata": {},
   "source": [
    "The code blocks below will train the model and save checkpoints containing the training state and the best model parameters to a file. This allows you to stop training and resume it later from where you left.\n",
    "\n",
    "Note that you can use the `main.py` script provided within the assignment folder to run this notebook from the command line as if it were a python script by using the `run-nb` subcommand. This allows you to train your model using this notebook without starting jupyter. You can combine this with `srun` or `sbatch` to run the notebook with a GPU on the course servers."
   ]
  },
  {
   "cell_type": "markdown",
   "metadata": {},
   "source": [
    "**TODO**:\n",
    "- Implement the `fit()` method of the `Trainer` class. You can reuse the relevant implementation parts from HW2, but make sure to implement early stopping and checkpoints.\n",
    "- Implement the `test_epoch()` and `test_batch()` methods of the `RNNTrainer` class in the `hw3/training.py` module.\n",
    "- Run the following block to train.\n",
    "- When training is done and you're satisfied with the model's outputs, rename the checkpoint file to `checkpoints/rnn_final.pt`.\n",
    "  This will cause the block to skip training and instead load your saved model when running the homework submission script.\n",
    "  Note that your submission zip file will not include the checkpoint file. This is OK."
   ]
  },
  {
   "cell_type": "code",
   "execution_count": 110,
   "metadata": {
    "execution": {
     "iopub.execute_input": "2021-01-22T10:38:52.316848Z",
     "iopub.status.busy": "2021-01-22T10:38:52.316319Z",
     "iopub.status.idle": "2021-01-22T10:38:52.369407Z",
     "shell.execute_reply": "2021-01-22T10:38:52.370084Z"
    }
   },
   "outputs": [
    {
     "name": "stdout",
     "output_type": "stream",
     "text": [
      "ACT I.  ama ta       t s    o \n",
      "   e          e       s n , n l       e   ee    h t oee    ml s     e\n",
      "--- EPOCH 1/50 ---\n",
      "train_batch (Avg. Loss 2.051, Accuracy 42.2): 100%|██████████| 697/697 [07:33<00:00,  1.54it/s]\n",
      "test_batch (Avg. Loss 1.861, Accuracy 45.0): 100%|██████████| 77/77 [00:14<00:00,  5.39it/s]\n",
      "*** Saved checkpoint checkpoints/rnn.pt at epoch 1\n",
      "ACT I. Here the conned or the pload.\n",
      "    And your sunce of the hast the will have there is the rain \n",
      "--- EPOCH 2/50 ---\n",
      "train_batch (Avg. Loss 1.629, Accuracy 52.0): 100%|██████████| 697/697 [07:08<00:00,  1.63it/s]\n",
      "test_batch (Avg. Loss 1.660, Accuracy 50.1): 100%|██████████| 77/77 [00:14<00:00,  5.40it/s]\n",
      "*** Saved checkpoint checkpoints/rnn.pt at epoch 2\n",
      "ACT I.\n",
      "  LORD. Who stand some to the present this the man be of the hand,\n",
      "    Dison the precesters a\n",
      "--- EPOCH 3/50 ---\n",
      "train_batch (Avg. Loss 1.515, Accuracy 55.0): 100%|██████████| 697/697 [05:58<00:00,  1.95it/s]\n",
      "test_batch (Avg. Loss 1.579, Accuracy 52.6): 100%|██████████| 77/77 [00:15<00:00,  4.82it/s]\n",
      "*** Saved checkpoint checkpoints/rnn.pt at epoch 3\n",
      "ACT I.\n",
      "    The fortune of the power and the loud as a son.\n",
      "                                         \n",
      "--- EPOCH 4/50 ---\n",
      "train_batch (Avg. Loss 1.457, Accuracy 56.6): 100%|██████████| 697/697 [11:48<00:00,  1.02s/it]\n",
      "test_batch (Avg. Loss 1.531, Accuracy 53.9): 100%|██████████| 77/77 [00:12<00:00,  6.13it/s]\n",
      "*** Saved checkpoint checkpoints/rnn.pt at epoch 4\n",
      "ACT I.\n",
      "\n",
      "                                         Enter BOLINGBROKE and ANTONY and and the QUEEN ELIZ\n",
      "--- EPOCH 5/50 ---\n",
      "train_batch (Avg. Loss 1.420, Accuracy 57.5): 100%|██████████| 697/697 [06:54<00:00,  1.68it/s]\n",
      "test_batch (Avg. Loss 1.504, Accuracy 54.7): 100%|██████████| 77/77 [00:14<00:00,  5.25it/s]\n",
      "*** Saved checkpoint checkpoints/rnn.pt at epoch 5\n",
      "ACT I.\n",
      "\n",
      "                                                     Enter CASSIO\n",
      "  THE END HERMY OF SYRACUS\n",
      "--- EPOCH 6/50 ---\n",
      "train_batch (Avg. Loss 1.394, Accuracy 58.2): 100%|██████████| 697/697 [06:13<00:00,  1.87it/s]\n",
      "test_batch (Avg. Loss 1.471, Accuracy 55.3): 100%|██████████| 77/77 [00:12<00:00,  6.03it/s]\n",
      "*** Saved checkpoint checkpoints/rnn.pt at epoch 6\n",
      "ACT I.\n",
      "    The Canst vouch of the poor mother's man.\n",
      "    Where end the strength of the sures of the \n",
      "--- EPOCH 7/50 ---\n",
      "train_batch (Avg. Loss 1.374, Accuracy 58.7): 100%|██████████| 697/697 [05:46<00:00,  2.01it/s]\n",
      "test_batch (Avg. Loss 1.453, Accuracy 55.7): 100%|██████████| 77/77 [00:14<00:00,  5.32it/s]\n",
      "*** Saved checkpoint checkpoints/rnn.pt at epoch 7\n",
      "ACT I. Let him the boy,\n",
      "                                                                            \n",
      "--- EPOCH 8/50 ---\n",
      "train_batch (Avg. Loss 1.358, Accuracy 59.1): 100%|██████████| 697/697 [05:45<00:00,  2.02it/s]\n",
      "test_batch (Avg. Loss 1.436, Accuracy 56.5): 100%|██████████| 77/77 [00:14<00:00,  5.42it/s]\n",
      "*** Saved checkpoint checkpoints/rnn.pt at epoch 8\n",
      "ACT I. Stern\n",
      "    Till the with the mind of the lord.\n",
      "  KING EDWARD. The French as the house of my gr\n",
      "--- EPOCH 9/50 ---\n",
      "train_batch (Avg. Loss 1.344, Accuracy 59.4): 100%|██████████| 697/697 [06:07<00:00,  1.90it/s]\n",
      "test_batch (Avg. Loss 1.432, Accuracy 56.7): 100%|██████████| 77/77 [00:13<00:00,  5.54it/s]\n",
      "*** Saved checkpoint checkpoints/rnn.pt at epoch 9\n",
      "ACT I.\n",
      "  LAUNCE. What is the beat this traitor you are some offence, and I will do this, the\n",
      "    com\n",
      "--- EPOCH 10/50 ---\n",
      "train_batch (Avg. Loss 1.333, Accuracy 59.7): 100%|██████████| 697/697 [05:42<00:00,  2.03it/s]\n",
      "test_batch (Avg. Loss 1.417, Accuracy 57.1): 100%|██████████| 77/77 [00:14<00:00,  5.45it/s]\n",
      "*** Saved checkpoint checkpoints/rnn.pt at epoch 10\n",
      "ACT I.\n",
      "  PAROLLES. He is a part of the sparroward the gods,\n",
      "    And I have like a son of his command\n",
      "--- EPOCH 11/50 ---\n",
      "train_batch (Avg. Loss 1.324, Accuracy 60.0): 100%|██████████| 697/697 [05:41<00:00,  2.04it/s]\n",
      "test_batch (Avg. Loss 1.399, Accuracy 57.6): 100%|██████████| 77/77 [00:13<00:00,  5.53it/s]\n",
      "*** Saved checkpoint checkpoints/rnn.pt at epoch 11\n",
      "ACT I.\n",
      "\n",
      "  MALVOLIO. What is the man, which is the patient here.\n",
      "    Why then is the law of my brothe\n",
      "--- EPOCH 12/50 ---\n",
      "train_batch (Avg. Loss 1.315, Accuracy 60.2): 100%|██████████| 697/697 [05:50<00:00,  1.99it/s]\n",
      "test_batch (Avg. Loss 1.392, Accuracy 57.8): 100%|██████████| 77/77 [00:13<00:00,  5.51it/s]\n",
      "*** Saved checkpoint checkpoints/rnn.pt at epoch 12\n",
      "ACT I.\n",
      "\n",
      "                            Enter TROILUS and ANTONY\n",
      "    What a words are the court of the F\n",
      "--- EPOCH 13/50 ---\n",
      "train_batch (Avg. Loss 1.308, Accuracy 60.4): 100%|██████████| 697/697 [05:43<00:00,  2.03it/s]\n",
      "test_batch (Avg. Loss 1.392, Accuracy 57.8): 100%|██████████| 77/77 [00:14<00:00,  5.48it/s]\n",
      "ACT I.\n",
      "                                                                                             \n",
      "--- EPOCH 14/50 ---\n",
      "train_batch (Avg. Loss 1.301, Accuracy 60.5): 100%|██████████| 697/697 [05:40<00:00,  2.05it/s]\n",
      "test_batch (Avg. Loss 1.379, Accuracy 58.1): 100%|██████████| 77/77 [00:13<00:00,  5.57it/s]\n",
      "*** Saved checkpoint checkpoints/rnn.pt at epoch 14\n",
      "ACT I.\n",
      "    Therefore, be sorrow have done but that with a power\n",
      "    To wear the small desire of the \n",
      "--- EPOCH 15/50 ---\n",
      "train_batch (Avg. Loss 1.295, Accuracy 60.7): 100%|██████████| 697/697 [07:37<00:00,  1.53it/s]\n",
      "test_batch (Avg. Loss 1.384, Accuracy 58.0): 100%|██████████| 77/77 [00:14<00:00,  5.33it/s]\n",
      "ACT I. I will see\n",
      "    The fury of the man of the end,\n",
      "                                              \n",
      "--- EPOCH 16/50 ---\n",
      "train_batch (Avg. Loss 1.291, Accuracy 60.8): 100%|██████████| 697/697 [09:12<00:00,  1.26it/s]\n",
      "test_batch (Avg. Loss 1.370, Accuracy 58.3): 100%|██████████| 77/77 [00:17<00:00,  4.42it/s]\n",
      "*** Saved checkpoint checkpoints/rnn.pt at epoch 16\n",
      "ACT I.\n",
      "\n",
      "                              Enter BARDOLPH\n",
      "\n",
      "                                        Enter \n",
      "--- EPOCH 17/50 ---\n",
      "train_batch (Avg. Loss 1.285, Accuracy 61.0): 100%|██████████| 697/697 [06:45<00:00,  1.72it/s]\n",
      "test_batch (Avg. Loss 1.362, Accuracy 58.5): 100%|██████████| 77/77 [00:17<00:00,  4.44it/s]\n",
      "*** Saved checkpoint checkpoints/rnn.pt at epoch 17\n",
      "ACT I.\n",
      "                                                                                 Exeunt SERVA\n",
      "--- EPOCH 18/50 ---\n",
      "train_batch (Avg. Loss 1.280, Accuracy 61.1): 100%|██████████| 697/697 [06:39<00:00,  1.75it/s]\n",
      "test_batch (Avg. Loss 1.361, Accuracy 58.6): 100%|██████████| 77/77 [00:15<00:00,  5.05it/s]\n",
      "*** Saved checkpoint checkpoints/rnn.pt at epoch 18\n",
      "ACT I.\n",
      "\n",
      "                           Enter THERSITES\n",
      "  SIR TOBY. So did I am a plague to the senators\n",
      "\n",
      "--- EPOCH 19/50 ---\n",
      "train_batch (Avg. Loss 1.276, Accuracy 61.1): 100%|██████████| 697/697 [06:25<00:00,  1.81it/s]\n",
      "test_batch (Avg. Loss 1.350, Accuracy 58.7): 100%|██████████| 77/77 [00:16<00:00,  4.67it/s]\n",
      "*** Saved checkpoint checkpoints/rnn.pt at epoch 19\n",
      "ACT I.\n",
      "                                                                                      [She th\n",
      "--- EPOCH 20/50 ---\n",
      "train_batch (Avg. Loss 1.272, Accuracy 61.3): 100%|██████████| 697/697 [06:37<00:00,  1.75it/s]\n",
      "test_batch (Avg. Loss 1.348, Accuracy 58.8): 100%|██████████| 77/77 [00:16<00:00,  4.64it/s]\n",
      "*** Saved checkpoint checkpoints/rnn.pt at epoch 20\n",
      "ACT I.\n",
      "                                                                                 [The COUNTES\n",
      "--- EPOCH 21/50 ---\n",
      "train_batch (Avg. Loss 1.268, Accuracy 61.4): 100%|██████████| 697/697 [06:49<00:00,  1.70it/s]\n",
      "test_batch (Avg. Loss 1.345, Accuracy 58.9): 100%|██████████| 77/77 [00:16<00:00,  4.59it/s]\n",
      "*** Saved checkpoint checkpoints/rnn.pt at epoch 21\n",
      "ACT I.\n",
      "                                                                                             \n",
      "--- EPOCH 22/50 ---\n",
      "train_batch (Avg. Loss 1.265, Accuracy 61.4): 100%|██████████| 697/697 [06:37<00:00,  1.75it/s]\n",
      "test_batch (Avg. Loss 1.342, Accuracy 59.0): 100%|██████████| 77/77 [00:16<00:00,  4.56it/s]\n",
      "*** Saved checkpoint checkpoints/rnn.pt at epoch 22\n",
      "ACT I.\n",
      "LAVINIA. What is your service to the gods to speak to the Count the peace of the people\n",
      "    A\n",
      "--- EPOCH 23/50 ---\n",
      "train_batch (Avg. Loss 1.262, Accuracy 61.5): 100%|██████████| 697/697 [06:35<00:00,  1.76it/s]\n",
      "test_batch (Avg. Loss 1.335, Accuracy 59.0): 100%|██████████| 77/77 [00:16<00:00,  4.58it/s]\n",
      "*** Saved checkpoint checkpoints/rnn.pt at epoch 23\n",
      "ACT I.\n",
      "\n",
      "Scene III:\n",
      "A time, the man as my mother did to the world.\n",
      "\n",
      "CORIOLANUS:\n",
      "I will not the good f\n",
      "--- EPOCH 24/50 ---\n",
      "train_batch (Avg. Loss 1.259, Accuracy 61.6): 100%|██████████| 697/697 [06:35<00:00,  1.76it/s]\n",
      "test_batch (Avg. Loss 1.335, Accuracy 59.1): 100%|██████████| 77/77 [00:16<00:00,  4.55it/s]\n",
      "*** Saved checkpoint checkpoints/rnn.pt at epoch 24\n",
      "ACT I.\n",
      "\n",
      "See the KING RICHARD with the beaten of the body of the Capitol,\n",
      "And the truth of the man th\n",
      "--- EPOCH 25/50 ---\n",
      "train_batch (Avg. Loss 1.256, Accuracy 61.7): 100%|██████████| 697/697 [06:37<00:00,  1.75it/s]\n",
      "test_batch (Avg. Loss 1.331, Accuracy 59.2): 100%|██████████| 77/77 [00:17<00:00,  4.38it/s]\n",
      "*** Saved checkpoint checkpoints/rnn.pt at epoch 25\n",
      "ACT I. SCENE I.\n",
      "Sir, and GREY\n",
      "\n",
      "  HORTENSIUS. What says he says and so much in his rest of the pity o\n",
      "--- EPOCH 26/50 ---\n",
      "train_batch (Avg. Loss 1.252, Accuracy 61.8): 100%|██████████| 697/697 [06:39<00:00,  1.74it/s]\n",
      "test_batch (Avg. Loss 1.328, Accuracy 59.3): 100%|██████████| 77/77 [00:16<00:00,  4.54it/s]\n",
      "*** Saved checkpoint checkpoints/rnn.pt at epoch 26\n",
      "ACT I.\n",
      "                                                                                             \n",
      "--- EPOCH 27/50 ---\n",
      "train_batch (Avg. Loss 1.250, Accuracy 61.8): 100%|██████████| 697/697 [06:40<00:00,  1.74it/s]\n",
      "test_batch (Avg. Loss 1.323, Accuracy 59.4): 100%|██████████| 77/77 [00:17<00:00,  4.51it/s]\n",
      "*** Saved checkpoint checkpoints/rnn.pt at epoch 27\n",
      "ACT I.\n",
      "\n",
      "Second Servingman:\n",
      "No, sir, here how did the sea revenge the sun.\n",
      "\n",
      "BRUTUS:\n",
      "So do you not the\n",
      "--- EPOCH 28/50 ---\n",
      "train_batch (Avg. Loss 1.247, Accuracy 61.8): 100%|██████████| 697/697 [06:45<00:00,  1.72it/s]\n",
      "test_batch (Avg. Loss 1.323, Accuracy 59.4): 100%|██████████| 77/77 [00:17<00:00,  4.30it/s]\n",
      "*** Saved checkpoint checkpoints/rnn.pt at epoch 28\n",
      "ACT I.\n",
      "\n",
      "SICINIUS:\n",
      "Why, the world is old and says\n",
      "For the heart of the state of a woman's great count\n",
      "--- EPOCH 29/50 ---\n",
      "train_batch (Avg. Loss 1.245, Accuracy 61.9): 100%|██████████| 697/697 [06:52<00:00,  1.69it/s]\n",
      "test_batch (Avg. Loss 1.319, Accuracy 59.5): 100%|██████████| 77/77 [00:17<00:00,  4.41it/s]\n",
      "*** Saved checkpoint checkpoints/rnn.pt at epoch 29\n",
      "ACT I. SCENE I.\n",
      "The pocket of the other of the form\n",
      "\n",
      "Enter TITUS, and ANTONY and GLOUCESTER\n",
      "\n",
      "       \n",
      "--- EPOCH 30/50 ---\n",
      "train_batch (Avg. Loss 1.244, Accuracy 62.0): 100%|██████████| 697/697 [06:59<00:00,  1.66it/s]\n",
      "test_batch (Avg. Loss 1.317, Accuracy 59.5): 100%|██████████| 77/77 [00:17<00:00,  4.39it/s]\n",
      "ACT I.\n",
      "\n",
      "COMINIUS:\n",
      "How now, good lord,\n",
      "He was a scorn of court in the sense of the cunning weary.\n",
      "\n",
      "CO\n",
      "--- EPOCH 31/50 ---\n",
      "train_batch (Avg. Loss 1.241, Accuracy 62.0): 100%|██████████| 697/697 [06:47<00:00,  1.71it/s]\n",
      "test_batch (Avg. Loss 1.317, Accuracy 59.5): 100%|██████████| 77/77 [00:17<00:00,  4.39it/s]\n",
      "*** Saved checkpoint checkpoints/rnn.pt at epoch 31\n",
      "ACT I. S\n",
      "                                      Enter HERMIA\n",
      "\n",
      "  ANTONY. He is her saints to say the t\n",
      "--- EPOCH 32/50 ---\n",
      "train_batch (Avg. Loss 1.239, Accuracy 62.1): 100%|██████████| 697/697 [06:48<00:00,  1.71it/s]\n",
      "test_batch (Avg. Loss 1.317, Accuracy 59.5): 100%|██████████| 77/77 [00:17<00:00,  4.44it/s]\n",
      "ACT I.\n",
      "\n",
      "COMINIUS:\n",
      "Therefore she speaks not the fortune of his will:\n",
      "There hath his noble men be pass\n",
      "--- EPOCH 33/50 ---\n",
      "train_batch (Avg. Loss 1.237, Accuracy 62.1): 100%|██████████| 697/697 [06:47<00:00,  1.71it/s]\n",
      "test_batch (Avg. Loss 1.310, Accuracy 59.7): 100%|██████████| 77/77 [00:17<00:00,  4.41it/s]\n",
      "*** Saved checkpoint checkpoints/rnn.pt at epoch 33\n",
      "ACT I.\n",
      "\n",
      "CORIOLANUS:\n",
      "The state of these are something;\n",
      "And therefore come the same the common days an\n",
      "--- EPOCH 34/50 ---\n",
      "train_batch (Avg. Loss 1.235, Accuracy 62.2): 100%|██████████| 697/697 [06:49<00:00,  1.70it/s]\n",
      "test_batch (Avg. Loss 1.314, Accuracy 59.7): 100%|██████████| 77/77 [00:17<00:00,  4.39it/s]\n",
      "*** Saved checkpoint checkpoints/rnn.pt at epoch 34\n",
      "ACT I.\n",
      "\n",
      "COMINIUS:\n",
      "Go to the commonwealth, the greater place\n",
      "Indeed the store is under heaven and bre\n",
      "--- EPOCH 35/50 ---\n",
      "train_batch (Avg. Loss 1.234, Accuracy 62.2): 100%|██████████| 697/697 [06:48<00:00,  1.71it/s]\n",
      "test_batch (Avg. Loss 1.313, Accuracy 59.7): 100%|██████████| 77/77 [00:17<00:00,  4.40it/s]\n",
      "ACT I. SCENE I.\n",
      "The Capitol so her conscience\n",
      "CAPEIDIUS call i' th' wars and the dissentious head\n",
      "\n",
      "E\n",
      "--- EPOCH 36/50 ---\n",
      "train_batch (Avg. Loss 1.232, Accuracy 62.2): 100%|██████████| 697/697 [06:52<00:00,  1.69it/s]\n",
      "test_batch (Avg. Loss 1.307, Accuracy 59.8): 100%|██████████| 77/77 [00:17<00:00,  4.38it/s]\n",
      "*** Saved checkpoint checkpoints/rnn.pt at epoch 36\n",
      "ACT I.\n",
      "\n",
      "CORIOLANUS:\n",
      "O, when I have been to be a man that should be well as it is not\n",
      "The wars with s\n",
      "--- EPOCH 37/50 ---\n",
      "train_batch (Avg. Loss 1.231, Accuracy 62.3): 100%|██████████| 697/697 [06:54<00:00,  1.68it/s]\n",
      "test_batch (Avg. Loss 1.308, Accuracy 59.8): 100%|██████████| 77/77 [00:17<00:00,  4.41it/s]\n",
      "*** Saved checkpoint checkpoints/rnn.pt at epoch 37\n",
      "ACT I.\n",
      "\n",
      "SICINIUS:\n",
      "What is the matter?\n",
      "\n",
      "CORIOLANUS:\n",
      "I will not be the house and so much death.\n",
      "\n",
      "KING \n",
      "--- EPOCH 38/50 ---\n",
      "train_batch (Avg. Loss 1.229, Accuracy 62.3): 100%|██████████| 697/697 [07:00<00:00,  1.66it/s]\n",
      "test_batch (Avg. Loss 1.308, Accuracy 59.8): 100%|██████████| 77/77 [00:17<00:00,  4.36it/s]\n",
      "*** Saved checkpoint checkpoints/rnn.pt at epoch 38\n",
      "ACT I.\n",
      "\n",
      "Second Murderer:\n",
      "My lord, the present beauty is the prince,\n",
      "He is a foolish son, and call th\n",
      "--- EPOCH 39/50 ---\n",
      "train_batch (Avg. Loss 1.227, Accuracy 62.4): 100%|██████████| 697/697 [06:51<00:00,  1.69it/s]\n",
      "test_batch (Avg. Loss 1.306, Accuracy 59.8): 100%|██████████| 77/77 [00:17<00:00,  4.38it/s]\n",
      "ACT I.\n",
      "\n",
      "SICINIUS:\n",
      "What have you not so true, when he hath seen the bottom?\n",
      "Hath he this measure in t\n",
      "--- EPOCH 40/50 ---\n",
      "train_batch (Avg. Loss 1.226, Accuracy 62.4): 100%|██████████| 697/697 [06:50<00:00,  1.70it/s]\n",
      "test_batch (Avg. Loss 1.307, Accuracy 59.8): 100%|██████████| 77/77 [00:17<00:00,  4.28it/s]\n",
      "*** Saved checkpoint checkpoints/rnn.pt at epoch 40\n",
      "ACT I.\n",
      "\n",
      "SICINIUS:\n",
      "What do I say you are to love you both?\n",
      "\n",
      "BUCKINGHAM:\n",
      "What are you not?\n",
      "\n",
      "CORIOLANUS\n",
      "--- EPOCH 41/50 ---\n",
      "train_batch (Avg. Loss 1.224, Accuracy 62.4): 100%|██████████| 697/697 [06:49<00:00,  1.70it/s]\n",
      "test_batch (Avg. Loss 1.301, Accuracy 59.9): 100%|██████████| 77/77 [00:17<00:00,  4.34it/s]\n",
      "*** Saved checkpoint checkpoints/rnn.pt at epoch 41\n",
      "ACT I.\n",
      "\n",
      "CORIOLANUS:\n",
      "What are you not a sight,\n",
      "But for the lips of your son of the peace.\n",
      "My lord, th\n",
      "--- EPOCH 42/50 ---\n",
      "train_batch (Avg. Loss 1.223, Accuracy 62.5): 100%|██████████| 697/697 [06:50<00:00,  1.70it/s]\n",
      "test_batch (Avg. Loss 1.304, Accuracy 59.9): 100%|██████████| 77/77 [00:18<00:00,  4.27it/s]\n",
      "ACT I. SCENE I.\n",
      "A prison of the KING and CAPTAINS\n",
      "\n",
      "Enter MARCUS and CORIOLANUS and CHARLES, BUCKINGH\n",
      "--- EPOCH 43/50 ---\n",
      "train_batch (Avg. Loss 1.222, Accuracy 62.5): 100%|██████████| 697/697 [06:52<00:00,  1.69it/s]\n",
      "test_batch (Avg. Loss 1.301, Accuracy 59.9): 100%|██████████| 77/77 [00:17<00:00,  4.37it/s]\n",
      "ACT I.\n",
      "\n",
      "BUCKINGHAM:\n",
      "Look you, my lord, you say the gentleman and since I beseech you\n",
      "    go to his m\n",
      "--- EPOCH 44/50 ---\n",
      "train_batch (Avg. Loss 1.220, Accuracy 62.5): 100%|██████████| 697/697 [07:28<00:00,  1.55it/s]\n",
      "test_batch (Avg. Loss 1.302, Accuracy 59.9): 100%|██████████| 77/77 [00:23<00:00,  3.30it/s]\n",
      "ACT I.\n",
      "\n",
      "MARCUS:\n",
      "He that shall be with my wit this leave.\n",
      "\n",
      "BUCKINGHAM:\n",
      "How does the prince of the law\n",
      "--- EPOCH 45/50 ---\n",
      "train_batch (Avg. Loss 1.219, Accuracy 62.6): 100%|██████████| 697/697 [07:45<00:00,  1.50it/s]\n",
      "test_batch (Avg. Loss 1.299, Accuracy 60.0): 100%|██████████| 77/77 [00:15<00:00,  4.88it/s]\n",
      "*** Saved checkpoint checkpoints/rnn.pt at epoch 45\n",
      "ACT I.\n",
      "\n",
      "And the QUEEN ELIZABETH\n",
      "  SERVANT\n",
      "\n",
      "                                                  Enter t\n",
      "--- EPOCH 46/50 ---\n",
      "train_batch (Avg. Loss 1.218, Accuracy 62.6): 100%|██████████| 697/697 [07:08<00:00,  1.63it/s]\n",
      "test_batch (Avg. Loss 1.298, Accuracy 60.0): 100%|██████████| 77/77 [00:16<00:00,  4.65it/s]\n",
      "ACT I.\n",
      "\n",
      "SECOND PANDARUS:\n",
      "What is the matter?\n",
      "\n",
      "COMINIUS:\n",
      "I shall be such a poor world is in his act;\n",
      "\n",
      "--- EPOCH 47/50 ---\n",
      "train_batch (Avg. Loss 1.216, Accuracy 62.6): 100%|██████████| 697/697 [06:13<00:00,  1.86it/s]\n",
      "test_batch (Avg. Loss 1.297, Accuracy 60.0): 100%|██████████| 77/77 [00:15<00:00,  5.05it/s]\n",
      "*** Saved checkpoint checkpoints/rnn.pt at epoch 47\n",
      "ACT I.\n",
      "DROMIO OF SYRACUSE. My lord, the heavens may stand\n",
      "                                          \n",
      "--- EPOCH 48/50 ---\n",
      "train_batch (Avg. Loss 1.216, Accuracy 62.6): 100%|██████████| 697/697 [11:49<00:00,  1.02s/it]\n",
      "test_batch (Avg. Loss 1.294, Accuracy 60.1): 100%|██████████| 77/77 [00:12<00:00,  5.96it/s]\n",
      "*** Saved checkpoint checkpoints/rnn.pt at epoch 48\n",
      "ACT I.\n",
      "\n",
      "SICINIUS:\n",
      "Come, sir, if then have heard the good heart,\n",
      "I cannot take my service for the pat\n",
      "--- EPOCH 49/50 ---\n",
      "train_batch (Avg. Loss 1.214, Accuracy 62.7): 100%|██████████| 697/697 [08:36<00:00,  1.35it/s]\n",
      "test_batch (Avg. Loss 1.296, Accuracy 60.0): 100%|██████████| 77/77 [00:12<00:00,  5.97it/s]\n",
      "ACT I.\n",
      "\n",
      "BUCKINGHAM:\n",
      "Why, yet I pray you, gentle Grecian, he was a gentleman,\n",
      "And we will not do him \n",
      "--- EPOCH 50/50 ---\n",
      "train_batch (Avg. Loss 1.213, Accuracy 62.7): 100%|██████████| 697/697 [09:46<00:00,  1.19it/s]\n",
      "test_batch (Avg. Loss 1.294, Accuracy 60.1): 100%|██████████| 77/77 [00:16<00:00,  4.76it/s]\n",
      "*** Saved checkpoint checkpoints/rnn.pt at epoch 50\n",
      "ACT I.\n",
      "\n",
      "DUKE OF YORK:\n",
      "I know the door in the markets of his love and parts;\n",
      "Which the forehead will \n"
     ]
    },
    {
     "data": {
      "text/plain": "<Figure size 1600x1000 with 4 Axes>",
      "image/png": "[encoded data removed]"
     },
     "metadata": {},
     "output_type": "display_data"
    }
   ],
   "source": [
    "from cs236781.plot import plot_fit\n",
    "\n",
    "def post_epoch_fn(epoch, train_res, test_res, verbose):\n",
    "    # Update learning rate\n",
    "    scheduler.step(test_res.accuracy)\n",
    "    # Sample from model to show progress\n",
    "    if verbose:\n",
    "        start_seq = \"ACT I.\"\n",
    "        generated_sequence = charnn.generate_from_model(\n",
    "            model, start_seq, 100, (char_to_idx,idx_to_char), T=0.5\n",
    "        )\n",
    "        print(generated_sequence)\n",
    "\n",
    "# Train, unless final checkpoint is found\n",
    "checkpoint_file_final = f'{checkpoint_file}_final.pt'\n",
    "if os.path.isfile(checkpoint_file_final):\n",
    "    print(f'*** Loading final checkpoint file {checkpoint_file_final} instead of training')\n",
    "    saved_state = torch.load(checkpoint_file_final, map_location=device)\n",
    "    model.load_state_dict(saved_state['model_state'])\n",
    "else:\n",
    "    try:\n",
    "        # Print pre-training sampling\n",
    "        print(charnn.generate_from_model(model, \"ACT I.\", 100, (char_to_idx,idx_to_char), T=0.5))\n",
    "\n",
    "        fit_res = trainer.fit(dl_train, dl_test, num_epochs, max_batches=None,\n",
    "                                  post_epoch_fn=post_epoch_fn, early_stopping=early_stopping,\n",
    "                              checkpoints=checkpoint_file, print_every=1)\n",
    "\n",
    "        fig, axes = plot_fit(fit_res)\n",
    "    except KeyboardInterrupt as e:\n",
    "        print('\\n *** Training interrupted by user')"
   ]
  },
  {
   "cell_type": "markdown",
   "metadata": {},
   "source": [
    "### Generating a work of art\n",
    "<a id=part1_8></a>"
   ]
  },
  {
   "cell_type": "markdown",
   "metadata": {},
   "source": [
    "Armed with our fully trained model, let's generate the next Hamlet! You should experiment with modifying the sampling temperature and see what happens.\n",
    "\n",
    "The text you generate should “look” like a Shakespeare play:\n",
    "old-style English words and sentence structure, directions for the actors\n",
    "(like “Exit/Enter”), sections (Act I/Scene III) etc.\n",
    "There will be no coherent plot of course, but it should at least seem like\n",
    "a Shakespearean play when not looking too closely.\n",
    "If this is not what you see, go back, debug and/or and re-train.\n",
    "\n",
    "**TODO**: Specify the generation parameters in the `part1_generation_params()` function within the `hw3/answers.py` module."
   ]
  },
  {
   "cell_type": "code",
   "execution_count": 121,
   "metadata": {
    "execution": {
     "iopub.execute_input": "2021-01-22T10:38:52.374495Z",
     "iopub.status.busy": "2021-01-22T10:38:52.373804Z",
     "iopub.status.idle": "2021-01-22T10:39:11.873893Z",
     "shell.execute_reply": "2021-01-22T10:39:11.874547Z"
    }
   },
   "outputs": [
    {
     "name": "stdout",
     "output_type": "stream",
     "text": [
      "ACT I.\n",
      "\n",
      "CORIOLANUS:\n",
      "What mean you to the present offer?\n",
      "\n",
      "QUEEN MARGARET:\n",
      "I will not come to thee to the proper hand,\n",
      "That the desert thou wilt be confess'd and therefore,\n",
      "That hath made me to be my son.\n",
      "\n",
      "SICINIUS:\n",
      "The court of the streets and the like the great poor son.\n",
      "\n",
      "QUEEN ELIZABETH:\n",
      "And so the noble Lord of Norfolk, the father of the strength of little head and see\n",
      "That will be so fair charity of the prince,\n",
      "As they have done the strong shape of the best boy,\n",
      "Which is a soldier in the state of them,\n",
      "To come to the world as the peace, and the speed\n",
      "Which should be so the concluded charge\n",
      "That ever discourse with any tongue of death.\n",
      "\n",
      "GLOUCESTER:\n",
      "I am so far as you have discontented for my soul.\n",
      "\n",
      "BUCKINGHAM:\n",
      "The mistress that the wars of them!\n",
      "\n",
      "CORIOLANUS:\n",
      "O my good lord, you shall not be the noble gentleman of my son\n",
      "To see thee brother Hereford's life,\n",
      "And so am I to be a post of the sun of the castle,\n",
      "And we the spirit of the beard of the father's fair present throne\n",
      "That hath a grave with the sun to the blood of God,\n",
      "That shall he send the present cause.\n",
      "\n",
      "COMINIUS:\n",
      "I will not be made of the maid and monster;\n",
      "And what is the poor son, and so should be discharg'd and the common presence\n",
      "As I will have my late that shall be lost to see thee for the meat how news do win the sea,\n",
      "Which she will come to call the compass of the state\n",
      "That will not live to be a thing of late,\n",
      "And then the strength of the other should be so well.\n",
      "\n",
      "GLOUCESTER:\n",
      "What say you to the King?\n",
      "\n",
      "CORIOLANUS:\n",
      "I will not be of them. I would have merely seen\n",
      "The son of the palace of wine and men the moon with the common means:\n",
      "The last and particular shorts are welcome.\n",
      "\n",
      "GLOUCESTER:\n",
      "What then shall she shall see thee speak to me?\n",
      "\n",
      "DUKE OF YORK:\n",
      "What is the matter?\n",
      "\n",
      "COMINIUS:\n",
      "I will amity thee alone.\n",
      "\n",
      "CORIOLANUS:\n",
      "He hath a country since I cannot see thee\n",
      "The sight of the best is the state of men.\n",
      "\n",
      "MENENIUS:\n",
      "What is the traitor?\n",
      "\n",
      "CORIOLANUS:\n",
      "What is the matter?\n",
      "\n",
      "CORIOLANUS:\n",
      "He shall be so well there,\n",
      "And make the truth of the companion of the day of the song\n",
      "To the manner of the proper prince, be not the court of the thoughts\n",
      "That do not show the sight of the state of the spirits,\n",
      "That do the sea and the thing the next with good heart,\n",
      "When I will see a child, and then the first of them\n",
      "I cannot well the promise of the strange and safety of the world\n",
      "That should the contrary his desert\n",
      "To the common present officer.\n",
      "\n",
      "MENENIUS:\n",
      "It is a man that hath a man of the soul and the ground.\n",
      "\n",
      "SICINIUS:\n",
      "There is the fair single of the court with your rest are to make a strength\n",
      "Of the wanton of the body been confident;\n",
      "And there is not the prophety to the maid,\n",
      "And with the heavens are mine. I will not be a saint,\n",
      "And to the father here deserves my love,\n",
      "When the best heart of the fearful streets and then\n",
      "That does a courtesy to the steel that he do see\n",
      "The court of the contrary souls\n",
      "That shall be so for the world to the best of his heart he was this form.\n",
      "\n",
      "BUCKINGHAM:\n",
      "Why, there is a most spirit with the chain.\n",
      "\n",
      "SICINIUS:\n",
      "The promise of the poor officer,\n",
      "Where the tongues of the common part of the truth is but a strange angel.\n",
      "\n",
      "CORIOLANUS:\n",
      "What would you were a part of the fair country's son?\n",
      "\n",
      "HENRY BOLINGBROKE:\n",
      "Have I should be a present, which may be so fair and death.\n",
      "\n",
      "CORIOLANUS:\n",
      "His son are well for thee.\n",
      "\n",
      "SICINIUS:\n",
      "The man is my father.\n",
      "\n",
      "CORIOLANUS:\n",
      "The noble and mine own army is a grave of the world,\n",
      "And do but be a true man. I do think the strength of such\n",
      "As they are sure to be a charge of him.\n",
      "\n",
      "CORIOLANUS:\n",
      "I have seen the streets of heaven.\n",
      "\n",
      "GLOUCESTER:\n",
      "What should I send your lordship?\n",
      "\n",
      "CORIOLANUS:\n",
      "What art thou there?\n",
      "\n",
      "KING RICHARD III:\n",
      "Where is the matter?\n",
      "\n",
      "BUCKINGHAM:\n",
      "No, sir, a good master, sir, so is the father's life\n",
      "I would have seen the heavenly death.\n",
      "\n",
      "DUKE OF YORK:\n",
      "What are you so?\n",
      "\n",
      "CORIOLANUS:\n",
      "He hath a great present of the winds\n",
      "That will be done the sun and the same state to me,\n",
      "The particular sister is a son of the prince,\n",
      "That was the true of God's sake that he should be so to be a woman's presence to the part\n",
      "In the dear heart and death to make the heavens\n",
      "To the part of the world and the companion of the common promise.\n",
      "\n",
      "BUCKINGHAM:\n",
      "What is the matter?\n",
      "\n",
      "SICINIUS:\n",
      "Therefore he hath been a stranger,\n",
      "That is the man that have done any man that shall be like to see\n",
      "Before the common proper father blows,\n",
      "And did the court of reason will be so and wish\n",
      "To make the truth in the part of the world,\n",
      "That the proper state of the proper babe;\n",
      "And therefore shall he do our service and the weak beard to the colour,\n",
      "I say 'tis not a fool, that we have some beauty with the court of the\n",
      "The moon to be a servant to the change.\n",
      "\n",
      "CORIOLANUS:\n",
      "Where is the mother to the moon?\n",
      "\n",
      "QUEEN MARGARET:\n",
      "What say you?\n",
      "\n",
      "CORIOLANUS:\n",
      "He shall be as a good and true good arms.\n",
      "\n",
      "KING RICHARD III:\n",
      "Where is the hand of the state of the heavens?\n",
      "\n",
      "GLOUCESTER:\n",
      "O my lord, I will see thee well; and therefore\n",
      "The proper country both and life\n",
      "Is so great such a state, as I will do no more.\n",
      "Made you my proper hand to thee in the conscience,\n",
      "That we have power to hear this creature of the while,\n",
      "Who will be come with the conceit of man, when I do live,\n",
      "To be a company and strange and death and seem\n",
      "To see the son of the father of the body shall be show\n",
      "The wind for the despite of the state,\n",
      "And show the wall of good and leave of this good standard.\n",
      "\n",
      "DUKE OF YORK:\n",
      "Why, the good lords of great presence of this beard of the death.\n",
      "\n",
      "BUCKINGHAM:\n",
      "What country was the rest, the gods the good and boy\n",
      "That is the last of men of that the sun that is the day of the companion.\n",
      "\n",
      "DUKE OF YORK:\n",
      "He hath a good man be it with him.\n",
      "\n",
      "BRUTUS:\n",
      "He hath been as the distress of the state,\n",
      "And show the common man that do him there a great person\n",
      "To see the fair and father of the soul\n",
      "To see the shape of grace of thousand mouths are here.\n",
      "\n",
      "DUKE OF YORK:\n",
      "I do not be so for the truth of the contempt,\n",
      "That we must be to come to me to the bastard Montague.\n",
      "\n",
      "KING RICHARD III:\n",
      "What should I live to you to me?\n",
      "\n",
      "MENENIUS:\n",
      "The man is the proper power to hear the speech.\n",
      "\n",
      "BRUTUS:\n",
      "The reverend service to the day,\n",
      "And their conference here is men and the world is so dear.\n",
      "\n",
      "CORIOLANUS:\n",
      "What says the streets of this?\n",
      "\n",
      "CORIOLANUS:\n",
      "Thou hast been so fair death and care not what I say;\n",
      "I know my tent, so she hath heard of the best shoulders,\n",
      "And shall we go to the child to the death of the dear battle.\n",
      "\n",
      "CORIOLANUS:\n",
      "He is a man and common son.\n",
      "\n",
      "DUKE OF YORK:\n",
      "I have some conclusion that I should\n",
      "Relend thee through the forest speaking to the hour,\n",
      "And so am I to see thee of the world and earth\n",
      "That seems to find the other with a banish'd friend,\n",
      "The people bring the palace of the rook\n",
      "That strikes the contrary of the state of graces.\n",
      "\n",
      "GLOUCESTER:\n",
      "He is a proper grave; and she doth tell him to the court\n",
      "Of the world with the sun to be so far,\n",
      "Which is a poor end in the proof of the state,\n",
      "On the face of the diet of the patience,\n",
      "To the report which is the sun, for he is the world,\n",
      "Where are the court is so fair sun to be a fair dear feeling,\n",
      "I will be so long prove a single life;\n",
      "Which she hath too much to your hearts.\n",
      "\n",
      "CORIOLANUS:\n",
      "What are you to the heavens?\n",
      "\n",
      "CORIOLANUS:\n",
      "I would I had the thing in the proud heart:\n",
      "What should I stood to thee, and shall I call your honour.\n",
      "\n",
      "QUEEN MARGARET:\n",
      "Where is the matter?\n",
      "\n",
      "CORIOLANUS:\n",
      "I fear the plain desire of peace,\n",
      "And so is all the dear care of the streets.\n",
      "\n",
      "KING RICHARD III:\n",
      "And see the power with him and find it better\n",
      "Than my father's sake, the man did see him so.\n",
      "\n",
      "GLOUCESTER:\n",
      "So do I there are so much a shame,\n",
      "And make the rest of life and such a prophety in the world\n",
      "I would not come to thee to your honour.\n",
      "\n",
      "BRUTUS:\n",
      "It is the love of the contempt.\n",
      "\n",
      "BUCKINGHAM:\n",
      "What is the news?\n",
      "\n",
      "CATESBY:\n",
      "What says your brother?\n",
      "\n",
      "BRUTUS:\n",
      "I am not so commanded to the King.\n",
      "\n",
      "GLOUCESTER:\n",
      "What may the man that should be so down?\n",
      "\n",
      "KING RICHARD III:\n",
      "So shall I say that shall I be a court?\n",
      "\n",
      "COMINIUS:\n",
      "I do not stay to him,\n",
      "I will be come to thee.\n",
      "\n",
      "BUCKINGHAM:\n",
      "What should I think it were a horse to them,\n",
      "The father shall do with my life. What mean your hands\n",
      "That the purpose of this poor person of the bold shoulders there,\n",
      "Where the tongue is this that bears the forest thousand\n",
      "That should be better to the place,\n",
      "The same the earth of the best haste of the stocks of his brother.\n",
      "\n",
      "DUCHESS OF YORK:\n",
      "I do not be not a son with him.\n",
      "\n",
      "MENENIUS:\n",
      "Fie, for I was a stranger than the rest of his benefit,\n",
      "And let the common spirit of the charge of the best of the gods that I will arm thee as the\n",
      "Duke of her eyes are all the means\n",
      "That they are discontented to my son.\n",
      "\n",
      "QUEEN ELIZABETH:\n",
      "What a prophet says he shall be so but the proper land.\n",
      "\n",
      "BUCKINGHAM:\n",
      "What is the matter?\n",
      "\n",
      "CORIOLANUS:\n",
      "The gods the fearful ward of heaven,\n",
      "One show thy son, and then my heart and your brother,\n",
      "That we shall see the storms of the contrary,\n",
      "And the world be a court of his sons of the court.\n",
      "\n",
      "HENRY BOLINGBROKE:\n",
      "I do not be a grave and say a very little world,\n",
      "And therefore will we show the world, and such a true heart.\n",
      "\n",
      "LORD WILLOUGHBY:\n",
      "A promise of the part of the strange of the power\n",
      "And had the country and the marriage shall recover\n",
      "The wars are breath of courtiers and the conquerors'\n",
      "Makes of my life of his throne and bottle of the common parts\n",
      "That shall be sent for your bed shame.\n",
      "\n",
      "GLOUCESTER:\n",
      "He lies to speak with you.\n",
      "\n",
      "CORIOLANUS:\n",
      "O thou the heavens are all the story.\n",
      "\n",
      "Third Servingman:\n",
      "Why, then the gods be so for the son of the court where you be so offended\n",
      "The man of the world but you should say the will of the best of his answer\n",
      "To desire the other the dear great soul doth be so,\n",
      "Which like a proper charity of them,\n",
      "And think the glory of the service of the hand;\n",
      "And I am come to see your priosing to the sea-rank.\n",
      "\n",
      "CORIOLANUS:\n",
      "The world is the dear son;\n",
      "When thou shalt please my father with the battle that thou hast not gone.\n",
      "\n",
      "GLOUCESTER:\n",
      "Go to the friends and good bread with his life.\n",
      "\n",
      "DUKE OF YORK:\n",
      "A wife will be a s\n"
     ]
    }
   ],
   "source": [
    "from hw3.answers import part1_generation_params\n",
    "\n",
    "start_seq, temperature = part1_generation_params()\n",
    "\n",
    "generated_sequence = charnn.generate_from_model(\n",
    "    model, start_seq, 10000, (char_to_idx,idx_to_char), T=temperature\n",
    ")\n",
    "\n",
    "print(generated_sequence)"
   ]
  },
  {
   "cell_type": "markdown",
   "metadata": {},
   "source": [
    "## Questions\n",
    "<a id=part1_9></a>"
   ]
  },
  {
   "cell_type": "markdown",
   "metadata": {},
   "source": [
    "**TODO** Answer the following questions. Write your answers in the appropriate variables in the module `hw3/answers.py`."
   ]
  },
  {
   "cell_type": "code",
   "execution_count": null,
   "metadata": {
    "execution": {
     "iopub.execute_input": "2021-01-22T10:39:11.878597Z",
     "iopub.status.busy": "2021-01-22T10:39:11.877685Z",
     "iopub.status.idle": "2021-01-22T10:39:11.907005Z",
     "shell.execute_reply": "2021-01-22T10:39:11.907632Z"
    }
   },
   "outputs": [],
   "source": [
    "from cs236781.answers import display_answer\n",
    "import hw3.answers"
   ]
  },
  {
   "cell_type": "markdown",
   "metadata": {},
   "source": [
    "### Question 1\n",
    "Why do we split the corpus into sequences instead of training on the whole text?"
   ]
  },
  {
   "cell_type": "code",
   "execution_count": null,
   "metadata": {
    "execution": {
     "iopub.execute_input": "2021-01-22T10:39:11.910907Z",
     "iopub.status.busy": "2021-01-22T10:39:11.910297Z",
     "iopub.status.idle": "2021-01-22T10:39:11.932056Z",
     "shell.execute_reply": "2021-01-22T10:39:11.932575Z"
    }
   },
   "outputs": [],
   "source": [
    "display_answer(hw3.answers.part1_q1)"
   ]
  },
  {
   "cell_type": "markdown",
   "metadata": {},
   "source": [
    "### Question 2\n",
    "How is it possible that the generated text clearly shows memory longer than the sequence length?"
   ]
  },
  {
   "cell_type": "code",
   "execution_count": null,
   "metadata": {
    "execution": {
     "iopub.execute_input": "2021-01-22T10:39:11.935871Z",
     "iopub.status.busy": "2021-01-22T10:39:11.935117Z",
     "iopub.status.idle": "2021-01-22T10:39:11.956627Z",
     "shell.execute_reply": "2021-01-22T10:39:11.957153Z"
    }
   },
   "outputs": [],
   "source": [
    "display_answer(hw3.answers.part1_q2)"
   ]
  },
  {
   "cell_type": "markdown",
   "metadata": {},
   "source": [
    "### Question 3\n",
    "Why are we not shuffling the order of batches when training?"
   ]
  },
  {
   "cell_type": "code",
   "execution_count": null,
   "metadata": {
    "execution": {
     "iopub.execute_input": "2021-01-22T10:39:11.960170Z",
     "iopub.status.busy": "2021-01-22T10:39:11.959572Z",
     "iopub.status.idle": "2021-01-22T10:39:11.980925Z",
     "shell.execute_reply": "2021-01-22T10:39:11.981585Z"
    }
   },
   "outputs": [],
   "source": [
    "display_answer(hw3.answers.part1_q3)"
   ]
  },
  {
   "cell_type": "markdown",
   "metadata": {},
   "source": [
    "### Question 4\n",
    "1. Why do we lower the temperature for sampling (compared to the default of $1.0$)?\n",
    "2. What happens when the temperature is very high and why?\n",
    "3. What happens when the temperature is very low and why?"
   ]
  },
  {
   "cell_type": "code",
   "execution_count": null,
   "metadata": {
    "execution": {
     "iopub.execute_input": "2021-01-22T10:39:11.985407Z",
     "iopub.status.busy": "2021-01-22T10:39:11.984773Z",
     "iopub.status.idle": "2021-01-22T10:39:12.007777Z",
     "shell.execute_reply": "2021-01-22T10:39:12.008441Z"
    }
   },
   "outputs": [],
   "source": [
    "display_answer(hw3.answers.part1_q4)"
   ]
  }
 ],
 "metadata": {
  "kernelspec": {
   "display_name": "Python 3 (ipykernel)",
   "language": "python",
   "name": "python3"
  },
  "language_info": {
   "codemirror_mode": {
    "name": "ipython",
    "version": 3
   },
   "file_extension": ".py",
   "mimetype": "text/x-python",
   "name": "python",
   "nbconvert_exporter": "python",
   "pygments_lexer": "ipython3",
   "version": "3.9.7"
  }
 },
 "nbformat": 4,
 "nbformat_minor": 4
}
